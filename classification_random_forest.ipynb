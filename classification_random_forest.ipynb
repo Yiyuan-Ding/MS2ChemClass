{
 "cells": [
  {
   "cell_type": "markdown",
   "id": "0af42ec2",
   "metadata": {},
   "source": [
    "# Random Forest\n",
    "\n",
    "This script is to perform Random Forest for the processed embedding array."
   ]
  },
  {
   "cell_type": "code",
   "execution_count": 16,
   "id": "e93d40e7",
   "metadata": {},
   "outputs": [],
   "source": [
    "import numpy as np\n",
    "from sklearn.ensemble import RandomForestClassifier\n",
    "from sklearn.ensemble import RandomForestRegressor\n",
    "from sklearn.datasets import make_classification\n",
    "from sklearn.metrics import confusion_matrix, accuracy_score\n",
    "from sklearn.preprocessing import StandardScaler\n",
    "from sklearn.model_selection import train_test_split\n",
    "from sklearn.datasets import fetch_covtype\n",
    "from sklearn.pipeline import make_pipeline\n",
    "from sklearn.preprocessing import MinMaxScaler\n",
    "from sklearn.kernel_approximation import PolynomialCountSketch\n",
    "from sklearn.linear_model import LogisticRegression\n",
    "from scipy.stats import randint\n",
    "from sklearn.experimental import enable_halving_search_cv  # noqa\n",
    "from sklearn.model_selection import HalvingRandomSearchCV\n",
    "import time"
   ]
  },
  {
   "cell_type": "markdown",
   "id": "441c1e70",
   "metadata": {},
   "source": [
    "## Loading array from csv file"
   ]
  },
  {
   "cell_type": "code",
   "execution_count": 2,
   "id": "74bba6bb",
   "metadata": {},
   "outputs": [
    {
     "name": "stdout",
     "output_type": "stream",
     "text": [
      "(16360, 300)\n"
     ]
    }
   ],
   "source": [
    "## Loading embedding arrays\n",
    "with open('/mnt/scratch/ding013/MS2ChemClass/embedding_arrays_for_classification/X_spectral_embeddings.csv') as file_name:\n",
    "    X_embedding = np.loadtxt(file_name, delimiter=\",\")\n",
    "print(X_embedding.shape)"
   ]
  },
  {
   "cell_type": "code",
   "execution_count": 3,
   "id": "defedd4a",
   "metadata": {},
   "outputs": [
    {
     "name": "stdout",
     "output_type": "stream",
     "text": [
      "(16360,)\n"
     ]
    }
   ],
   "source": [
    "## Loading class labels\n",
    "import csv\n",
    "\n",
    "with open('/mnt/scratch/ding013/MS2ChemClass/embedding_arrays_for_classification/y_npc_class_results_labels.csv') as file_name:\n",
    "    csv_label = csv.reader(file_name)\n",
    "    y_label_list = []\n",
    "    for row in csv_label:\n",
    "        y_label_list.append(row[0])\n",
    "y_label = np.array(y_label_list)\n",
    "print(y_label.shape)"
   ]
  },
  {
   "cell_type": "markdown",
   "id": "41c39b9e",
   "metadata": {},
   "source": [
    "## Get the proper parameters"
   ]
  },
  {
   "cell_type": "code",
   "execution_count": 20,
   "id": "7353b53d",
   "metadata": {},
   "outputs": [
    {
     "name": "stderr",
     "output_type": "stream",
     "text": [
      "/mnt/scratch/ding013/tools/anaconda3/lib/python3.8/site-packages/sklearn/model_selection/_split.py:666: UserWarning: The least populated class in y has only 1 members, which is less than n_splits=5.\n",
      "  warnings.warn((\"The least populated class in y has only %d\"\n",
      "/mnt/scratch/ding013/tools/anaconda3/lib/python3.8/site-packages/sklearn/model_selection/_split.py:666: UserWarning: The least populated class in y has only 1 members, which is less than n_splits=5.\n",
      "  warnings.warn((\"The least populated class in y has only %d\"\n"
     ]
    },
    {
     "data": {
      "text/plain": [
       "{'bootstrap': False,\n",
       " 'criterion': 'entropy',\n",
       " 'max_depth': None,\n",
       " 'max_features': 10,\n",
       " 'min_samples_split': 5}"
      ]
     },
     "execution_count": 20,
     "metadata": {},
     "output_type": "execute_result"
    }
   ],
   "source": [
    "clf = RandomForestClassifier(n_estimators=10, random_state=0)\n",
    "\n",
    "param_dist = {\"max_depth\": [3, None],\n",
    "              \"max_features\": randint(1, 11),\n",
    "              \"min_samples_split\": randint(2, 11),\n",
    "              \"bootstrap\": [True, False],\n",
    "              \"criterion\": [\"gini\", \"entropy\"]}\n",
    "\n",
    "rsh = HalvingRandomSearchCV(estimator=clf, param_distributions=param_dist,\n",
    "                            factor=2, random_state=0)\n",
    "rsh.fit(X_embedding, y_label_list)\n",
    "rsh.best_params_"
   ]
  },
  {
   "cell_type": "markdown",
   "id": "6508092e",
   "metadata": {},
   "source": [
    "## Random Forest for training and test sets"
   ]
  },
  {
   "cell_type": "code",
   "execution_count": 5,
   "id": "68ad492b",
   "metadata": {},
   "outputs": [],
   "source": [
    "# Split the dataset into the Training set and Test set\n",
    "X_train, X_test, y_train, y_test = train_test_split(X_embedding, y_label, test_size = 0.25, random_state = 0)\n",
    "\n"
   ]
  },
  {
   "cell_type": "code",
   "execution_count": 7,
   "id": "4c991bbc",
   "metadata": {},
   "outputs": [
    {
     "data": {
      "text/plain": [
       "(4090, 300)"
      ]
     },
     "execution_count": 7,
     "metadata": {},
     "output_type": "execute_result"
    }
   ],
   "source": [
    "X_test.shape"
   ]
  },
  {
   "cell_type": "code",
   "execution_count": 21,
   "id": "1d02d004",
   "metadata": {},
   "outputs": [],
   "source": [
    "# Feature Scaling\n",
    "\n",
    "sc = StandardScaler()\n",
    "X_train = sc.fit_transform(X_train)\n",
    "X_test = sc.transform(X_test)"
   ]
  },
  {
   "cell_type": "code",
   "execution_count": 35,
   "id": "d30b841e",
   "metadata": {},
   "outputs": [
    {
     "name": "stdout",
     "output_type": "stream",
     "text": [
      "Processing time: 267.768\n"
     ]
    }
   ],
   "source": [
    "## Train Model\n",
    "import time\n",
    "t0=time.process_time()\n",
    "# Instantiate model with 10 decision trees\n",
    "rf = RandomForestClassifier(n_estimators = 160, random_state = 0)\n",
    "# Train the model on training data\n",
    "rf.fit(X_train, y_train)\n",
    "t1=time.process_time()-t0\n",
    "y_pred = rf.predict(X_test)\n",
    "\n",
    "print('Processing time: %.3f' % t1)"
   ]
  },
  {
   "cell_type": "code",
   "execution_count": 36,
   "id": "aae6b4a2",
   "metadata": {},
   "outputs": [
    {
     "name": "stdout",
     "output_type": "stream",
     "text": [
      "Accuracy: 0.305\n"
     ]
    }
   ],
   "source": [
    "## Evaluate the model\n",
    "\n",
    "print('Accuracy: %.3f' % accuracy_score(y_test, y_pred))\n"
   ]
  },
  {
   "cell_type": "code",
   "execution_count": null,
   "id": "0004c926",
   "metadata": {},
   "outputs": [],
   "source": []
  },
  {
   "cell_type": "code",
   "execution_count": null,
   "id": "e768c3bd",
   "metadata": {},
   "outputs": [],
   "source": []
  }
 ],
 "metadata": {
  "kernelspec": {
   "display_name": "Python 3",
   "language": "python",
   "name": "python3"
  },
  "language_info": {
   "codemirror_mode": {
    "name": "ipython",
    "version": 3
   },
   "file_extension": ".py",
   "mimetype": "text/x-python",
   "name": "python",
   "nbconvert_exporter": "python",
   "pygments_lexer": "ipython3",
   "version": "3.8.8"
  }
 },
 "nbformat": 4,
 "nbformat_minor": 5
}
