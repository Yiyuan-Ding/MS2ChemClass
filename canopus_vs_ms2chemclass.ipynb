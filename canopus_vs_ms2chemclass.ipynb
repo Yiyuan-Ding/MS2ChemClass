{
 "cells": [
  {
   "cell_type": "markdown",
   "id": "e4ee881e",
   "metadata": {},
   "source": [
    "Apply LDA to classify spectral embeddings:\n",
    "    \n",
    "    Tools: scikit-learn 0.24.1\n"
   ]
  },
  {
   "cell_type": "markdown",
   "id": "612fd2a1",
   "metadata": {},
   "source": [
    "##  LDA"
   ]
  },
  {
   "cell_type": "code",
   "execution_count": 1,
   "id": "8d79c5e4",
   "metadata": {},
   "outputs": [],
   "source": [
    "import os\n",
    "from matplotlib import pyplot as plt\n",
    "import pickle\n",
    "from numpy import mean\n",
    "from numpy import std\n",
    "from sklearn.datasets import make_classification\n",
    "from sklearn.metrics import confusion_matrix, accuracy_score\n",
    "from sklearn.model_selection import cross_val_score, KFold, train_test_split\n",
    "from sklearn.discriminant_analysis import LinearDiscriminantAnalysis\n",
    "from sklearn.preprocessing import StandardScaler\n",
    "import numpy as np\n",
    "import time\n",
    "import seaborn as sns\n",
    "import matplotlib.pyplot as plt \n",
    "from collections import Counter\n",
    "import pandas as pd"
   ]
  },
  {
   "cell_type": "markdown",
   "id": "9c8d75c6",
   "metadata": {},
   "source": [
    "## Define functions"
   ]
  },
  {
   "cell_type": "code",
   "execution_count": 2,
   "id": "c3419860",
   "metadata": {},
   "outputs": [],
   "source": [
    "def define_data(X_embedding, y_label_list, min_group_size=1, remove_unclassified = True):\n",
    "    y_label = np.array(y_label_list)\n",
    "    # Kick out the unexpected groups     \n",
    "    lbs = Counter(y_label)\n",
    "    lbs = {k:v for k,v in sorted(lbs.items(), key=lambda item: item[1], reverse=True)}\n",
    "    sel_index=[]\n",
    "    for i,v in enumerate(list(lbs.values())):\n",
    "        if v >= min_group_size:\n",
    "            sel_index.append(i)\n",
    "    select_lbs = [list(lbs.keys())[i] for i in sel_index]   \n",
    "    if remove_unclassified == True:\n",
    "        if 'Unclassified' in select_lbs:\n",
    "            select_lbs.remove('Unclassified')           \n",
    "    print(str(len(select_lbs))+' groups were selected.')    \n",
    "    # Connect the selected groups to embeddings\n",
    "    select_index = []\n",
    "    for i in select_lbs:\n",
    "        temp_index, = np.where(y_label==i)\n",
    "        #print(temp_index)\n",
    "        select_index += list(temp_index)\n",
    "    select_index.sort()\n",
    "    #print(select_index)\n",
    "    y_label_2 = np.array(y_label[select_index])\n",
    "    print(y_label_2.shape)\n",
    "    X_embedding_2=X_embedding[select_index,:]\n",
    "    print(X_embedding_2.shape)\n",
    "    print(f'Selecting {len(select_index)} of {len(y_label_list)} spectra.')\n",
    "    return X_embedding_2, y_label_2\n",
    "\n",
    "\n",
    "def perform_lda(X_embedding, y_label, testing_size = 0.25, stratification=True):\n",
    "    # Split the dataset into the Training set and Test set\n",
    "    if stratification == True:\n",
    "        X_train, X_test, y_train, y_test = train_test_split(X_embedding, y_label, test_size = testing_size, random_state = 0, stratify=y_label)\n",
    "    else:\n",
    "        X_train, X_test, y_train, y_test = train_test_split(X_embedding, y_label, test_size = testing_size, random_state = 0)\n",
    "        \n",
    "    # Apply Feature Scaling\n",
    "    sc = StandardScaler()\n",
    "    X_train = sc.fit_transform(X_train)\n",
    "    X_test = sc.transform(X_test)\n",
    "#     with open('/mnt/scratch/ding013/MS2ChemClass/embedding_arrays_for_classification/x_test_lda.pkl','wb') as f:\n",
    "#         pickle.dump(X_test, f)\n",
    "#     with open('/mnt/scratch/ding013/MS2ChemClass/embedding_arrays_for_classification/y_test_lda.pkl','wb') as f:\n",
    "#         pickle.dump(y_test, f)\n",
    "\n",
    "    # Apply LDA\n",
    "    t0=time.process_time()\n",
    "    lda_model = LinearDiscriminantAnalysis()\n",
    "    lda_model.fit(X_train,y_train)\n",
    "    t1=time.process_time()-t0\n",
    "    print('Time elapsed: %.3f' % t1)\n",
    "\n",
    "    # Predict the test set results and check the accuracy\n",
    "    y_pred = lda_model.predict(X_test)\n",
    "    accuracy_lda = accuracy_score(y_test,y_pred)\n",
    "    print('Accuracy: %.3f' % accuracy_lda)\n",
    "\n",
    "    labels =list(np.unique(np.array(list(y_test)+list(y_pred))))\n",
    "    conf_mat = confusion_matrix(y_test,y_pred, labels = labels)\n",
    "    print(conf_mat)\n",
    "    return conf_mat,y_test,y_train,y_pred,labels\n",
    "\n",
    "\n",
    "def plot_confusion_matrix(confusion_mat, labels, save_path, heatmap=False):    \n",
    "    # Plot Confusion matrix  # Ignore: this plot is too large to plot.\n",
    "    if len(labels) >= 10:\n",
    "        a = len(labels)//5+5;\n",
    "    else:\n",
    "        a = 5\n",
    "    \n",
    "    df_cm = pd.DataFrame(confusion_mat, columns=np.unique(labels), index = np.unique(labels))\n",
    "    df_cm.to_pickle(save_path+'.pkl')\n",
    "    if heatmap==True:\n",
    "        plt.figure(figsize = (a,a*4//5))\n",
    "        ax= plt.subplot()\n",
    "        df_cm.index.name = 'Actual labels'\n",
    "        df_cm.columns.name = 'Predicted labels'\n",
    "        sns.set(font_scale=1.8)\n",
    "        sns.heatmap(df_cm, annot=True, ax = ax, cmap=\"YlGnBu\", fmt='d',annot_kws={\"size\": 10})\n",
    "        plt.savefig(save_path+'.svg',dpi=300,bbox_inches='tight')\n",
    "    return df_cm\n",
    "  \n",
    "    \n",
    "def calculate_accuracy_per_label(label, conf_matrix, y_train, save_path):\n",
    "    accuracy = []\n",
    "    group_size_pred=[]\n",
    "    group_size_test=[]\n",
    "    group_size_train=[]\n",
    "    group_size = []\n",
    "    predict_vs_test_size=[]\n",
    "    group_size_train_dict = {k:list(y_train).count(k) for k in label}\n",
    "    for i in range(len(label)):\n",
    "        if label[i] != 'Unclassified':\n",
    "            true_result = conf_matrix[i,i]\n",
    "            all_result_pred = np.sum(conf_matrix,axis=0)[i]\n",
    "            group_size_pred.append(all_result_pred)\n",
    "            all_result_test = np.sum(conf_matrix,axis=1)[i]\n",
    "            #print(all_result_pred, all_result_test)\n",
    "            group_size_test.append(all_result_test)\n",
    "            group_size_train.append(group_size_train_dict[label[i]])\n",
    "            group_size.append(all_result_test+group_size_train_dict[label[i]])\n",
    "\n",
    "            if all_result_pred == 0:\n",
    "                accuracy.append(0)\n",
    "            else:\n",
    "                accuracy.append(true_result/all_result_pred)\n",
    "\n",
    "            if all_result_test == 0:\n",
    "                predict_vs_test_size.append(all_result_pred+1)\n",
    "            else:\n",
    "                predict_vs_test_size.append(all_result_pred/all_result_test)\n",
    "    if 'Unclassified' in label:\n",
    "        print('Removing Unclassified groups')\n",
    "        label.remove('Unclassified')\n",
    "    accuracy_dict = {'labels':label, 'accuracy':accuracy,'predict_vs_test_size': predict_vs_test_size,'group_size': group_size,\n",
    "                     'group_size_pred':group_size_pred, 'group_size_test':group_size_test, 'group_size_train':group_size_train}\n",
    "    with open(save_path, 'wb') as f:\n",
    "        pickle.dump(accuracy_dict, f)\n",
    "    return accuracy_dict\n",
    "\n",
    "\n",
    "def scatter_plot_accuracy_per_label(accuracy_dict,show_annot_min_x, x_label, datatype, save_dir):\n",
    "    x= accuracy_dict[x_label]\n",
    "    y= accuracy_dict['accuracy']\n",
    "    plt.rcParams.update({'figure.figsize':(10,7)})\n",
    "    plt.scatter(x, y)\n",
    "\n",
    "    plt.title('Accuracy of predicted results vs. %s in %s' % (x_label, datatype))\n",
    "    plt.xlabel(x_label)\n",
    "    plt.ylabel('Accuracy per group')\n",
    "    for i,txt in enumerate(accuracy_dict['labels']):\n",
    "        if x[i] >= show_annot_min_x:\n",
    "            plt.annotate(txt,(x[i],y[i]), fontsize=10)\n",
    "    plt.savefig(save_dir,dpi = 100, bbox_inches='tight')\n",
    "    plt.show()\n",
    "    \n",
    "\n",
    "    "
   ]
  },
  {
   "cell_type": "code",
   "execution_count": 3,
   "id": "5f0535af",
   "metadata": {},
   "outputs": [],
   "source": [
    "def define_data_give_indices(X_embedding, y_label_list, min_group_size=1, remove_unclassified = True):\n",
    "    \n",
    "    y_label = np.array(y_label_list)\n",
    "    # Kick out the unexpected groups     \n",
    "    lbs = Counter(y_label)\n",
    "    lbs = {k:v for k,v in sorted(lbs.items(), key=lambda item: item[1], reverse=True)}\n",
    "    sel_index=[]\n",
    "    for i,v in enumerate(list(lbs.values())):\n",
    "        if v >= min_group_size:\n",
    "            sel_index.append(i)\n",
    "    select_lbs = [list(lbs.keys())[i] for i in sel_index]\n",
    "    \n",
    "    if remove_unclassified == True:\n",
    "        if 'Unclassified' in select_lbs:\n",
    "            select_lbs.remove('Unclassified')           \n",
    "    print(str(len(select_lbs))+' groups were selected.')    \n",
    "    # Connect the selected groups to embeddings\n",
    "    select_index = []\n",
    "    for i in select_lbs:\n",
    "        temp_index, = np.where(y_label==i)\n",
    "        #print(temp_index)\n",
    "        select_index += list(temp_index)\n",
    "    select_index.sort()\n",
    "    #print(select_index)\n",
    "    y_label_2 = np.array(y_label[select_index])\n",
    "    print(y_label_2.shape)\n",
    "    X_embedding_2=X_embedding[select_index,:]\n",
    "    print(X_embedding_2.shape)\n",
    "    print(f'Selecting {len(select_index)} of {len(y_label_list)} spectra.')\n",
    "    return X_embedding_2, y_label_2,select_index"
   ]
  },
  {
   "cell_type": "markdown",
   "id": "b078cb08",
   "metadata": {},
   "source": [
    "## Loading array from files"
   ]
  },
  {
   "cell_type": "code",
   "execution_count": 4,
   "id": "5370229d",
   "metadata": {},
   "outputs": [
    {
     "name": "stdout",
     "output_type": "stream",
     "text": [
      "(16360, 300)\n"
     ]
    }
   ],
   "source": [
    "## Loading embedding arrays\n",
    "with open('/mnt/scratch/ding013/MS2ChemClass/embedding_arrays_for_classification/X_spectral_embeddings.csv') as file_name:\n",
    "    X_embedding = np.loadtxt(file_name, delimiter=\",\")\n",
    "print(X_embedding.shape)"
   ]
  },
  {
   "cell_type": "markdown",
   "id": "cd3a605e",
   "metadata": {},
   "source": [
    "## LDA for ClassyFire all data"
   ]
  },
  {
   "cell_type": "markdown",
   "id": "d819dc72",
   "metadata": {},
   "source": [
    "### Class level in ClassyFire"
   ]
  },
  {
   "cell_type": "code",
   "execution_count": 182,
   "id": "dfa37486",
   "metadata": {},
   "outputs": [
    {
     "name": "stdout",
     "output_type": "stream",
     "text": [
      "(16360,)\n",
      "183 groups were selected.\n",
      "(15034,)\n",
      "(15034, 300)\n",
      "Selecting 15034 of 16360 spectra.\n",
      "Time elapsed: 8.989\n",
      "Accuracy: 0.351\n",
      "[[0 0 0 ... 0 0 0]\n",
      " [0 1 0 ... 0 0 0]\n",
      " [0 0 0 ... 0 0 0]\n",
      " ...\n",
      " [0 0 0 ... 1 0 0]\n",
      " [0 0 0 ... 0 0 0]\n",
      " [0 0 0 ... 0 0 2]]\n"
     ]
    }
   ],
   "source": [
    "# Find the indices of test and training sets\n",
    "data_type='cf_class_lda'\n",
    "with open('/mnt/scratch/ding013/MS2ChemClass/embedding_arrays_for_classification/y_cf_class_labels.pickle', 'rb') as file_name:\n",
    "    y_label_list = pickle.load(file_name)\n",
    "y_label = np.array(y_label_list)\n",
    "print(y_label.shape)\n",
    "X_embedding_2, y_label_2,select_index = define_data_give_indices(X_embedding, y_label_list, min_group_size=4, remove_unclassified = True)\n",
    "indices = range(15034)\n",
    "X_train, X_test, y_train, y_test,indices_train,indices_test = train_test_split(X_embedding_2, y_label_2,indices, test_size = 0.25, random_state = 0, stratify=y_label_2)\n",
    "conf_mat,y_test,y_train,y_pred,labels= perform_lda(X_embedding_2, y_label_2, testing_size = 0.25, stratification=True)\n"
   ]
  },
  {
   "cell_type": "code",
   "execution_count": 183,
   "id": "0531ae81",
   "metadata": {},
   "outputs": [],
   "source": [
    "with open('/mnt/scratch/ding013/MS2ChemClass/embedding_arrays_for_classification/mass_da_ui.pickle', 'rb') as file_name:\n",
    "    mass_list = pickle.load(file_name)\n",
    "with open('/mnt/scratch/ding013/MS2ChemClass/embedding_arrays_for_classification/inchi_list_ui.pickle', 'rb') as file_name:\n",
    "    inchi_list = pickle.load(file_name)"
   ]
  },
  {
   "cell_type": "code",
   "execution_count": 184,
   "id": "c9947d8b",
   "metadata": {},
   "outputs": [],
   "source": [
    "mass_selected = [mass_list[i] for i in select_index]\n",
    "inchi_selected = [inchi_list[i] for i in select_index]\n",
    "mass_test = [mass_selected[i] for i in indices_test]\n",
    "inchi_test = [inchi_selected[i] for i in indices_test]"
   ]
  },
  {
   "cell_type": "code",
   "execution_count": 185,
   "id": "f896d864",
   "metadata": {},
   "outputs": [],
   "source": [
    "# glycerolipids\n",
    "glycero_indices = [i for i, x in enumerate(y_test) if x == \"Glycerolipids\"]\n",
    "mass_selected_glycero_test = [mass_test[i] for i in glycero_indices]\n",
    "inchi_selected_glycero_test= [inchi_test[i] for i in glycero_indices]\n",
    "# Save mass dalton information\n",
    "with open('/mnt/scratch/ding013/MS2ChemClass/test_data_for_canopus/Glycerolipids_test_inchikey.pickle','wb') as f:\n",
    "    pickle.dump(inchi_selected_glycero_test,f)\n",
    "with open('/mnt/scratch/ding013/MS2ChemClass/test_data_for_canopus/Glycerolipids_test_mass.pickle','wb') as f:\n",
    "    pickle.dump(mass_selected_glycero_test,f)"
   ]
  },
  {
   "cell_type": "code",
   "execution_count": 186,
   "id": "eda15f56",
   "metadata": {},
   "outputs": [],
   "source": [
    "import glob"
   ]
  },
  {
   "cell_type": "code",
   "execution_count": 187,
   "id": "09532cde",
   "metadata": {},
   "outputs": [
    {
     "name": "stdout",
     "output_type": "stream",
     "text": [
      "Glycerolipids\n",
      "Glycerolipids\n",
      "Sphingolipids\n",
      "Sphingolipids\n",
      "Glycerolipids\n",
      "Glycerolipids\n",
      "Glycerolipids\n",
      "Glycerolipids\n",
      "Glycerolipids\n",
      "Glycerolipids\n",
      "Glycerolipids\n",
      "11 ['Glycerolipids', 'Glycerolipids', 'Sphingolipids', 'Sphingolipids', 'Glycerolipids', 'Glycerolipids', 'Glycerolipids', 'Glycerolipids', 'Glycerolipids', 'Glycerolipids', 'Glycerolipids']\n"
     ]
    }
   ],
   "source": [
    "# get the list of canopus results path\n",
    "txtfiles = []\n",
    "for file in glob.glob('/mnt/scratch/ding013/MS2ChemClass/test_data_for_canopus/glycerolipids/*.mgf'):\n",
    "    txtfiles.append(file.split('.')[0])\n",
    "\n",
    "# collect predicted results from canopus results\n",
    "\n",
    "pred_com_list=[]\n",
    "for i in txtfiles:\n",
    "    if os.path.isfile(f'{i}/canopus_summary.tsv'):\n",
    "        with open(f'{i}/canopus_summary.tsv', 'r') as file_name:\n",
    "            cano_out = pd.read_csv(file_name, delimiter=\"\\t\")\n",
    "        try:\n",
    "            pred_com=cano_out['class'][0]\n",
    "            print(pred_com)\n",
    "            pred_com_list.append(pred_com)\n",
    "        except:\n",
    "            pass\n",
    "\n",
    "print(len(pred_com_list),pred_com_list)"
   ]
  },
  {
   "cell_type": "code",
   "execution_count": null,
   "id": "41f51ca3",
   "metadata": {},
   "outputs": [],
   "source": []
  },
  {
   "cell_type": "code",
   "execution_count": 188,
   "id": "825a4941",
   "metadata": {},
   "outputs": [
    {
     "name": "stdout",
     "output_type": "stream",
     "text": [
      "122\n"
     ]
    }
   ],
   "source": [
    "# Other compound\n",
    "com = 'Peptidomimetics'\n",
    "compound_indices = [i for i, x in enumerate(y_test) if x == com]\n",
    "mass_selected_compound_test = [mass_test[i] for i in compound_indices]\n",
    "inchi_selected_compound_test= [inchi_test[i] for i in compound_indices]\n",
    "# Save mass dalton information\n",
    "with open(f'/mnt/scratch/ding013/MS2ChemClass/test_data_for_canopus/{com}_test_inchikey.pickle','wb') as f:\n",
    "    pickle.dump(inchi_selected_compound_test,f)\n",
    "with open(f'/mnt/scratch/ding013/MS2ChemClass/test_data_for_canopus/{com}_test_mass.pickle','wb') as f:\n",
    "    pickle.dump(mass_selected_compound_test,f)\n",
    "print(len(inchi_selected_compound_test))\n",
    "#print(inchi_selected_compound_test)\n",
    "# print(mass_selected_compound_test)"
   ]
  },
  {
   "cell_type": "code",
   "execution_count": 189,
   "id": "041c731f",
   "metadata": {},
   "outputs": [
    {
     "name": "stdout",
     "output_type": "stream",
     "text": [
      "44 ['Peptidomimetics', 'Peptidomimetics', 'Peptidomimetics', 'Peptidomimetics', 'Peptidomimetics', 'Peptidomimetics', 'Peptidomimetics', 'Peptidomimetics', 'Peptidomimetics', 'Peptidomimetics', 'Peptidomimetics', 'Peptidomimetics', 'Peptidomimetics', 'Peptidomimetics', 'Peptidomimetics', 'Carboxylic acids and derivatives', 'Peptidomimetics', 'Peptidomimetics', 'Peptidomimetics', 'Peptidomimetics', 'Peptidomimetics', 'Carboxylic acids and derivatives', 'Peptidomimetics', 'Peptidomimetics', 'Peptidomimetics', 'Peptidomimetics', 'Peptidomimetics', 'Peptidomimetics', 'Peptidomimetics', 'Carboxylic acids and derivatives', 'Peptidomimetics', 'Peptidomimetics', 'Peptidomimetics', 'Peptidomimetics', 'Peptidomimetics', 'Peptidomimetics', 'Peptidomimetics', 'Peptidomimetics', 'Peptidomimetics', 'Peptidomimetics', 'Peptidomimetics', 'Peptidomimetics', 'Peptidomimetics', 'Peptidomimetics']\n"
     ]
    }
   ],
   "source": [
    "# get the list of canopus results path\n",
    "txtfiles = []\n",
    "for file in glob.glob('/mnt/scratch/ding013/MS2ChemClass/test_data_for_canopus/Peptidomimetics/*.mgf'):\n",
    "    txtfiles.append(file.split('.')[0])\n",
    "\n",
    "# collect predicted results from canopus results\n",
    "\n",
    "pred_com_list=[]\n",
    "for i in txtfiles:\n",
    "    if os.path.isfile(f'{i}/canopus_summary.tsv'):\n",
    "        with open(f'{i}/canopus_summary.tsv', 'r') as file_name:\n",
    "            cano_out = pd.read_csv(file_name, delimiter=\"\\t\")\n",
    "        try:\n",
    "            pred_com=cano_out['class'][0]\n",
    "            # print(pred_com)\n",
    "            pred_com_list.append(pred_com)\n",
    "        except:\n",
    "            pass\n",
    "\n",
    "print(len(pred_com_list),pred_com_list)"
   ]
  },
  {
   "cell_type": "code",
   "execution_count": 190,
   "id": "005dfe89",
   "metadata": {},
   "outputs": [],
   "source": [
    "with open('/mnt/scratch/ding013/MS2ChemClass/test_data_for_canopus/peptidomimetics_canopus_out/canopus_summary.tsv', 'r') as file_name:\n",
    "    cano_out = pd.read_csv(file_name, delimiter=\"\\t\")\n"
   ]
  },
  {
   "cell_type": "code",
   "execution_count": 191,
   "id": "9a3526af",
   "metadata": {},
   "outputs": [
    {
     "name": "stdout",
     "output_type": "stream",
     "text": [
      "8\n",
      "['CCMSLIB00000085443', 'CCMSLIB00000077057', 'CCMSLIB00000085161', 'CCMSLIB00000078515', 'CCMSLIB00000086191', 'CCMSLIB00000077091', 'CCMSLIB00005723226', 'CCMSLIB00005734807']\n",
      "[444.156724, 464.101724, 457.187724, 444.153724, 444.15772400000003, 444.156724, 442.138724, 457.184724]\n"
     ]
    }
   ],
   "source": [
    "# Other compound\n",
    "com = 'Tetracyclines'\n",
    "compound_indices = [i for i, x in enumerate(y_test) if x == com]\n",
    "mass_selected_compound_test = [mass_test[i] for i in compound_indices]\n",
    "inchi_selected_compound_test= [inchi_test[i] for i in compound_indices]\n",
    "# Save mass dalton information\n",
    "with open(f'/mnt/scratch/ding013/MS2ChemClass/test_data_for_canopus/{com}_test_inchikey.pickle','wb') as f:\n",
    "    pickle.dump(inchi_selected_compound_test,f)\n",
    "with open(f'/mnt/scratch/ding013/MS2ChemClass/test_data_for_canopus/{com}_test_mass.pickle','wb') as f:\n",
    "    pickle.dump(mass_selected_compound_test,f)\n",
    "print(len(inchi_selected_compound_test))\n",
    "print(inchi_selected_compound_test)\n",
    "print(mass_selected_compound_test)"
   ]
  },
  {
   "cell_type": "code",
   "execution_count": 192,
   "id": "f9ce611c",
   "metadata": {},
   "outputs": [
    {
     "name": "stdout",
     "output_type": "stream",
     "text": [
      "459\n"
     ]
    }
   ],
   "source": [
    "# Other compound\n",
    "com = 'Prenol_lipids'\n",
    "compound_indices = [i for i, x in enumerate(y_test) if x == 'Prenol lipids']\n",
    "mass_selected_compound_test = [mass_test[i] for i in compound_indices]\n",
    "inchi_selected_compound_test= [inchi_test[i] for i in compound_indices]\n",
    "# Save mass dalton information\n",
    "with open(f'/mnt/scratch/ding013/MS2ChemClass/test_data_for_canopus/{com}_test_inchikey.pickle','wb') as f:\n",
    "    pickle.dump(inchi_selected_compound_test,f)\n",
    "with open(f'/mnt/scratch/ding013/MS2ChemClass/test_data_for_canopus/{com}_test_mass.pickle','wb') as f:\n",
    "    pickle.dump(mass_selected_compound_test,f)\n",
    "print(len(inchi_selected_compound_test))\n",
    "# print(inchi_selected_compound_test)\n",
    "# print(mass_selected_compound_test)"
   ]
  },
  {
   "cell_type": "code",
   "execution_count": 193,
   "id": "0b56bd72",
   "metadata": {},
   "outputs": [
    {
     "name": "stdout",
     "output_type": "stream",
     "text": [
      "228\n",
      "458.278724\n"
     ]
    }
   ],
   "source": [
    "# Other compound\n",
    "com = 'Organooxygen_compounds'\n",
    "compound_indices = [i for i, x in enumerate(y_test) if x == 'Organooxygen compounds']\n",
    "mass_selected_compound_test = [mass_test[i] for i in compound_indices]\n",
    "inchi_selected_compound_test= [inchi_test[i] for i in compound_indices]\n",
    "# Save mass dalton information\n",
    "with open(f'/mnt/scratch/ding013/MS2ChemClass/test_data_for_canopus/{com}_test_inchikey.pickle','wb') as f:\n",
    "    pickle.dump(inchi_selected_compound_test,f)\n",
    "with open(f'/mnt/scratch/ding013/MS2ChemClass/test_data_for_canopus/{com}_test_mass.pickle','wb') as f:\n",
    "    pickle.dump(mass_selected_compound_test,f)\n",
    "print(len(inchi_selected_compound_test))\n",
    "#print(inchi_selected_compound_test)\n",
    "print(mass_selected_compound_test[0])"
   ]
  },
  {
   "cell_type": "code",
   "execution_count": 194,
   "id": "19dfabb5",
   "metadata": {},
   "outputs": [
    {
     "name": "stdout",
     "output_type": "stream",
     "text": [
      "90 Organooxygen compounds\n"
     ]
    }
   ],
   "source": [
    "# get the list of canopus results path\n",
    "txtfiles = []\n",
    "for file in glob.glob('/mnt/scratch/ding013/MS2ChemClass/test_data_for_canopus/Organooxygen_compounds/*.mgf'):\n",
    "    txtfiles.append(file.split('.')[0])\n",
    "\n",
    "# collect predicted results from canopus results\n",
    "\n",
    "pred_com_list=[]\n",
    "for i in txtfiles:\n",
    "    if os.path.isfile(f'{i}/canopus_summary.tsv'):\n",
    "        with open(f'{i}/canopus_summary.tsv', 'r') as file_name:\n",
    "            cano_out = pd.read_csv(file_name, delimiter=\"\\t\")\n",
    "        try:\n",
    "            pred_com=cano_out['class'][0]\n",
    "            # print(pred_com)\n",
    "            pred_com_list.append(pred_com)\n",
    "        except:\n",
    "            pass\n",
    "\n",
    "print(len(pred_com_list),pred_com_list[0])"
   ]
  },
  {
   "cell_type": "code",
   "execution_count": 195,
   "id": "7a2b5c2e",
   "metadata": {},
   "outputs": [
    {
     "name": "stdout",
     "output_type": "stream",
     "text": [
      "19\n",
      "90\n"
     ]
    }
   ],
   "source": [
    "# canopus false positive\n",
    "fn=0\n",
    "for i in pred_com_list:\n",
    "    if i!=\"Organooxygen compounds\":\n",
    "        fn+=1\n",
    "print(fn)\n",
    "print(len(pred_com_list))"
   ]
  },
  {
   "cell_type": "code",
   "execution_count": 196,
   "id": "0ff4250f",
   "metadata": {},
   "outputs": [
    {
     "name": "stdout",
     "output_type": "stream",
     "text": [
      "181\n",
      "228\n"
     ]
    }
   ],
   "source": [
    "# ms2chemclass false positive\n",
    "com_pred = list(y_pred[compound_indices])\n",
    "fn=0\n",
    "for i in com_pred:\n",
    "    if i!=\"Organooxygen compounds\":\n",
    "        fn+=1\n",
    "print(fn)\n",
    "print(len(com_pred))"
   ]
  },
  {
   "cell_type": "code",
   "execution_count": null,
   "id": "6c443b93",
   "metadata": {},
   "outputs": [],
   "source": []
  },
  {
   "cell_type": "markdown",
   "id": "a3876a88",
   "metadata": {},
   "source": [
    "## Save the selected spectrum into mgf for CANOPUS"
   ]
  },
  {
   "cell_type": "code",
   "execution_count": 197,
   "id": "313093a9",
   "metadata": {},
   "outputs": [],
   "source": [
    "from matchms.exporting import save_as_mgf\n",
    "from pathlib import Path\n",
    "import os\n",
    "import gensim\n",
    "import pickle\n",
    "import sys\n",
    "import numpy as np\n",
    "import pandas as pd\n",
    "from matplotlib import pyplot as plt\n",
    "from collections import OrderedDict, Counter"
   ]
  },
  {
   "cell_type": "code",
   "execution_count": 199,
   "id": "3bc97498",
   "metadata": {},
   "outputs": [
    {
     "name": "stdout",
     "output_type": "stream",
     "text": [
      "<matchms.Spectrum.Spectrum object at 0x7fcb63b93d60>\n"
     ]
    }
   ],
   "source": [
    "data_path = \"/mnt/LTR_userdata/hooft001/mass_spectral_embeddings/datasets/ALL_GNPS_210409_positive/\"\n",
    "base = \"ALL_GNPS_210409_positive_cleaned\"\n",
    "spectra_data = \"_peaks_processed_s2v_only_annotated.pickle\"\n",
    "\n",
    "embedding_path = \"/mnt/LTR_userdata/hooft001/mass_spectral_embeddings/embeddings/ALL_GNPS_210409_positive/ALL_GNPS_210409_positive_cleaned_spec2vec_embedding_iter_15.model\"\n",
    "save_path = \"/mnt/scratch/ding013/MS2ChemClass/hooft_data/embedding_visualization_out/\"\n",
    "\n",
    "spectrum_file = os.path.join(data_path, base+\".pickle\")\n",
    "os.path.exists(spectrum_file)\n",
    "\n",
    "processed_spectrums_file = os.path.join(data_path, base+spectra_data)\n",
    "with open(processed_spectrums_file, 'rb') as inf:\n",
    "    spectrums_processed = pickle.load(inf)\n",
    "\n",
    "len(spectrums_processed)\n",
    "\n",
    "# TEST DATA\n",
    "# spectrums_processed = spectrums_processed[1:100]\n",
    "# len(spectrums_processed)\n",
    "\n",
    "\n",
    "# ### Keep annotated spectra\n",
    "# Annotated with inchikey\n",
    "\n",
    "annot_spectrums_processed = []\n",
    "for spec in spectrums_processed:\n",
    "    inchikey = spec.metadata.get(\"inchikey\")\n",
    "    if inchikey:\n",
    "        annot_spectrums_processed.append(spec)\n",
    "len(annot_spectrums_processed)\n",
    "\n",
    "spectrums_ids = [s.metadata.get(\"spectrum_id\") for s in annot_spectrums_processed]\n",
    "\n",
    "\n",
    "any([s==None for s in spectrums_ids])\n",
    "\n",
    "print(spectrums_processed[1])\n"
   ]
  },
  {
   "cell_type": "code",
   "execution_count": 200,
   "id": "4574d67f",
   "metadata": {},
   "outputs": [],
   "source": [
    "inchi_selected_glycero_test=['CCMSLIB00000563345', 'CCMSLIB00005724151', 'CCMSLIB00003129211', 'CCMSLIB00003093478', 'CCMSLIB00006109919', 'CCMSLIB00003100705', 'CCMSLIB00003088299', 'CCMSLIB00003106655', 'CCMSLIB00003093986', 'CCMSLIB00003092599', 'CCMSLIB00003093304', 'CCMSLIB00003093815', 'CCMSLIB00000849055', 'CCMSLIB00003093912', 'CCMSLIB00003092296', 'CCMSLIB00003094220', 'CCMSLIB00003091642', 'CCMSLIB00000563325', 'CCMSLIB00003094925', 'CCMSLIB00005723381', 'CCMSLIB00000563319', 'CCMSLIB00003128263', 'CCMSLIB00003139659', 'CCMSLIB00003138839', 'CCMSLIB00000563317', 'CCMSLIB00003087863', 'CCMSLIB00003109606', 'CCMSLIB00003095340', 'CCMSLIB00003119228', 'CCMSLIB00003088561', 'CCMSLIB00000563312', 'CCMSLIB00005724131', 'CCMSLIB00000563321', 'CCMSLIB00003129207', 'CCMSLIB00005724150', 'CCMSLIB00000563346', 'CCMSLIB00003094106', 'CCMSLIB00003100671', 'CCMSLIB00005436305', 'CCMSLIB00003090393', 'CCMSLIB00005724144', 'CCMSLIB00000563358', 'CCMSLIB00003110521', 'CCMSLIB00003096235', 'CCMSLIB00005724130']\n",
    "for s in inchi_selected_glycero_test:\n",
    "    selected_spec=[spectrums_processed[i] for i,v in enumerate(spectrums_ids) if v==s]\n",
    "    save_as_mgf(selected_spec,f'/mnt/scratch/ding013/MS2ChemClass/test_data_for_canopus/glycerolipids/{s}test_inchikey.mgf')\n"
   ]
  },
  {
   "cell_type": "code",
   "execution_count": 201,
   "id": "20bd852e",
   "metadata": {},
   "outputs": [],
   "source": [
    "inchi_test_compound=['CCMSLIB00005436092', 'CCMSLIB00000577703', 'CCMSLIB00005723403', 'CCMSLIB00000001638', 'CCMSLIB00000577749', 'CCMSLIB00000086129', 'CCMSLIB00000001650', 'CCMSLIB00000577808', 'CCMSLIB00000577842', 'CCMSLIB00000854741', 'CCMSLIB00000001790', 'CCMSLIB00003742128', 'CCMSLIB00000577624', 'CCMSLIB00000577571', 'CCMSLIB00000846978', 'CCMSLIB00000577756', 'CCMSLIB00000577747', 'CCMSLIB00005723406', 'CCMSLIB00000071755', 'CCMSLIB00000577587', 'CCMSLIB00000478654', 'CCMSLIB00005724028', 'CCMSLIB00000001815', 'CCMSLIB00000075068', 'CCMSLIB00005720239', 'CCMSLIB00000001642', 'CCMSLIB00000577819', 'CCMSLIB00000853980', 'CCMSLIB00000577834', 'CCMSLIB00000853336', 'CCMSLIB00000848828', 'CCMSLIB00000577671', 'CCMSLIB00001059667', 'CCMSLIB00004679304', 'CCMSLIB00000577662', 'CCMSLIB00000001608', 'CCMSLIB00000577508', 'CCMSLIB00000577789', 'CCMSLIB00000079981', 'CCMSLIB00000577639', 'CCMSLIB00000577503', 'CCMSLIB00000424841', 'CCMSLIB00000080590', 'CCMSLIB00000085222', 'CCMSLIB00000577642', 'CCMSLIB00000839208', 'CCMSLIB00000001792', 'CCMSLIB00000577577', 'CCMSLIB00004722213', 'CCMSLIB00000071756', 'CCMSLIB00001059678', 'CCMSLIB00000079862', 'CCMSLIB00000577863', 'CCMSLIB00000081215', 'CCMSLIB00000577581', 'CCMSLIB00000578044', 'CCMSLIB00000577682', 'CCMSLIB00005885157', 'CCMSLIB00005463473', 'CCMSLIB00000080545', 'CCMSLIB00000577678', 'CCMSLIB00000079888', 'CCMSLIB00005435752', 'CCMSLIB00000478102', 'CCMSLIB00005436483', 'CCMSLIB00000577751', 'CCMSLIB00000853573', 'CCMSLIB00000577858', 'CCMSLIB00000577831', 'CCMSLIB00005463474', 'CCMSLIB00000577586', 'CCMSLIB00000001601', 'CCMSLIB00005723394', 'CCMSLIB00000079782', 'CCMSLIB00005435723', 'CCMSLIB00000577588', 'CCMSLIB00005691876', 'CCMSLIB00000577657', 'CCMSLIB00000577573', 'CCMSLIB00004679300', 'CCMSLIB00000577598', 'CCMSLIB00000079361', 'CCMSLIB00000577783', 'CCMSLIB00005720211', 'CCMSLIB00000577520', 'CCMSLIB00004679299', 'CCMSLIB00000577569', 'CCMSLIB00005723386', 'CCMSLIB00000577764', 'CCMSLIB00000577585', 'CCMSLIB00000848328', 'CCMSLIB00000080038', 'CCMSLIB00000577777', 'CCMSLIB00000079837', 'CCMSLIB00000577840', 'CCMSLIB00005724299', 'CCMSLIB00005435658', 'CCMSLIB00000577628', 'CCMSLIB00000577651', 'CCMSLIB00000577617', 'CCMSLIB00000566712', 'CCMSLIB00000577514', 'CCMSLIB00000079661', 'CCMSLIB00000577645', 'CCMSLIB00000577635', 'CCMSLIB00000577688', 'CCMSLIB00000577512', 'CCMSLIB00000001683', 'CCMSLIB00001059628', 'CCMSLIB00000577823', 'CCMSLIB00000854691', 'CCMSLIB00000080533', 'CCMSLIB00000577661', 'CCMSLIB00000577687', 'CCMSLIB00000577731', 'CCMSLIB00000847844', 'CCMSLIB00000079728', 'CCMSLIB00000577794', 'CCMSLIB00000577716', 'CCMSLIB00000223994', 'CCMSLIB00004722106', 'CCMSLIB00000221414']\n",
    "path1='/mnt/scratch/ding013/MS2ChemClass/test_data_for_canopus/Peptidomimetics'\n",
    "Path(path1).mkdir(parents=True, exist_ok=True)\n",
    "\n",
    "for s in inchi_test_compound:\n",
    "    selected_spec=[spectrums_processed[i] for i,v in enumerate(spectrums_ids) if v==s]\n",
    "    save_as_mgf(selected_spec, f'{path1}/{s}test_inchikey.mgf')"
   ]
  },
  {
   "cell_type": "code",
   "execution_count": 202,
   "id": "9547b6cc",
   "metadata": {},
   "outputs": [],
   "source": [
    "inchi_test_compound=['CCMSLIB00003135802', 'CCMSLIB00000846231', 'CCMSLIB00000578009', 'CCMSLIB00000848312', 'CCMSLIB00005738684', 'CCMSLIB00000847793', 'CCMSLIB00005883997', 'CCMSLIB00000846633', 'CCMSLIB00000079034', 'CCMSLIB00006105372', 'CCMSLIB00005978342', 'CCMSLIB00004685140', 'CCMSLIB00005738463', 'CCMSLIB00004692117', 'CCMSLIB00005765551', 'CCMSLIB00006089151', 'CCMSLIB00000579640', 'CCMSLIB00000848082', 'CCMSLIB00000578092', 'CCMSLIB00000085753', 'CCMSLIB00000424801', 'CCMSLIB00005738496', 'CCMSLIB00000425810', 'CCMSLIB00005975346', 'CCMSLIB00000849988', 'CCMSLIB00000845020', 'CCMSLIB00003135730', 'CCMSLIB00000214796', 'CCMSLIB00000072523', 'CCMSLIB00000846122', 'CCMSLIB00005954846', 'CCMSLIB00004690281', 'CCMSLIB00001058649', 'CCMSLIB00005758001', 'CCMSLIB00000852432', 'CCMSLIB00000205849', 'CCMSLIB00000846802', 'CCMSLIB00006063904', 'CCMSLIB00004694816', 'CCMSLIB00005955373', 'CCMSLIB00000850395', 'CCMSLIB00003134680', 'CCMSLIB00005463617', 'CCMSLIB00000005006', 'CCMSLIB00000853966', 'CCMSLIB00004713669', 'CCMSLIB00000849505', 'CCMSLIB00000077069', 'CCMSLIB00005723253', 'CCMSLIB00000855752', 'CCMSLIB00000079091', 'CCMSLIB00000425678', 'CCMSLIB00000848091', 'CCMSLIB00000855533', 'CCMSLIB00006084383', 'CCMSLIB00000856011', 'CCMSLIB00000854639', 'CCMSLIB00005489615', 'CCMSLIB00000085602', 'CCMSLIB00000848273', 'CCMSLIB00003134937', 'CCMSLIB00006103907', 'CCMSLIB00000079166', 'CCMSLIB00000219050', 'CCMSLIB00000847399', 'CCMSLIB00000426012', 'CCMSLIB00000855412', 'CCMSLIB00005884281', 'CCMSLIB00000855499', 'CCMSLIB00000855222', 'CCMSLIB00005435627', 'CCMSLIB00000078995', 'CCMSLIB00000085326', 'CCMSLIB00000855463', 'CCMSLIB00000214603', 'CCMSLIB00000001649', 'CCMSLIB00003142425', 'CCMSLIB00000205794', 'CCMSLIB00004703046', 'CCMSLIB00000849766', 'CCMSLIB00004719768', 'CCMSLIB00005435769', 'CCMSLIB00000855898', 'CCMSLIB00000855511', 'CCMSLIB00005719846', 'CCMSLIB00005435944', 'CCMSLIB00000577890', 'CCMSLIB00005772734', 'CCMSLIB00005435939', 'CCMSLIB00005774173', 'CCMSLIB00005720531', 'CCMSLIB00000848590', 'CCMSLIB00003142429', 'CCMSLIB00000085593', 'CCMSLIB00005719784', 'CCMSLIB00000085325', 'CCMSLIB00000848630', 'CCMSLIB00000214816', 'CCMSLIB00003135492', 'CCMSLIB00000854529', 'CCMSLIB00004679309', 'CCMSLIB00006038441', 'CCMSLIB00000214921', 'CCMSLIB00000085654', 'CCMSLIB00001059011', 'CCMSLIB00000425943', 'CCMSLIB00004694514', 'CCMSLIB00004691379', 'CCMSLIB00000079836', 'CCMSLIB00000848774', 'CCMSLIB00000218044', 'CCMSLIB00000853803', 'CCMSLIB00000847572', 'CCMSLIB00000855351', 'CCMSLIB00000579687', 'CCMSLIB00003134817', 'CCMSLIB00000426803', 'CCMSLIB00000205792', 'CCMSLIB00000853476', 'CCMSLIB00000854809', 'CCMSLIB00005877203', 'CCMSLIB00000848364', 'CCMSLIB00005463708', 'CCMSLIB00000851585', 'CCMSLIB00004709062', 'CCMSLIB00000848747', 'CCMSLIB00000854647', 'CCMSLIB00000852263', 'CCMSLIB00000852843', 'CCMSLIB00005719884', 'CCMSLIB00000851357', 'CCMSLIB00000845675', 'CCMSLIB00000425220', 'CCMSLIB00006107295', 'CCMSLIB00000425114', 'CCMSLIB00004716366', 'CCMSLIB00000574567', 'CCMSLIB00000855115', 'CCMSLIB00000084800', 'CCMSLIB00004718678', 'CCMSLIB00000848716', 'CCMSLIB00003135255', 'CCMSLIB00005435770', 'CCMSLIB00000078406', 'CCMSLIB00000839294', 'CCMSLIB00005725426', 'CCMSLIB00000214968', 'CCMSLIB00000850138', 'CCMSLIB00004711959', 'CCMSLIB00000853567', 'CCMSLIB00005966779', 'CCMSLIB00000078993', 'CCMSLIB00000215071', 'CCMSLIB00005467665', 'CCMSLIB00000853035', 'CCMSLIB00005749428', 'CCMSLIB00004719352', 'CCMSLIB00000425466', 'CCMSLIB00000214541', 'CCMSLIB00005760292', 'CCMSLIB00000219905', 'CCMSLIB00006024814', 'CCMSLIB00006105014', 'CCMSLIB00000847343', 'CCMSLIB00000854811', 'CCMSLIB00000853698', 'CCMSLIB00005721079', 'CCMSLIB00000214985', 'CCMSLIB00001058957', 'CCMSLIB00000847688', 'CCMSLIB00004702794', 'CCMSLIB00000847531', 'CCMSLIB00000079405', 'CCMSLIB00000845516', 'CCMSLIB00000217781', 'CCMSLIB00000214573', 'CCMSLIB00000853730', 'CCMSLIB00000426344', 'CCMSLIB00000848650', 'CCMSLIB00000214952', 'CCMSLIB00003142416', 'CCMSLIB00000078572', 'CCMSLIB00005735790', 'CCMSLIB00000850752', 'CCMSLIB00000577925', 'CCMSLIB00000085517', 'CCMSLIB00004712560', 'CCMSLIB00004751444', 'CCMSLIB00005764009', 'CCMSLIB00000221394', 'CCMSLIB00000214706', 'CCMSLIB00000854514', 'CCMSLIB00005723220', 'CCMSLIB00005953875', 'CCMSLIB00000848632', 'CCMSLIB00004704522', 'CCMSLIB00000850693', 'CCMSLIB00000574569', 'CCMSLIB00000004647', 'CCMSLIB00000080277', 'CCMSLIB00000855669', 'CCMSLIB00000079412', 'CCMSLIB00000577981', 'CCMSLIB00004696188', 'CCMSLIB00003135964', 'CCMSLIB00000855480', 'CCMSLIB00006065669', 'CCMSLIB00006043723', 'CCMSLIB00003135520', 'CCMSLIB00000840420', 'CCMSLIB00006061115', 'CCMSLIB00005467663', 'CCMSLIB00000849996', 'CCMSLIB00005734034', 'CCMSLIB00000853316', 'CCMSLIB00005435626', 'CCMSLIB00005982469', 'CCMSLIB00005972202', 'CCMSLIB00000079988', 'CCMSLIB00000850399', 'CCMSLIB00005757138', 'CCMSLIB00005725152', 'CCMSLIB00000855916', 'CCMSLIB00000213672', 'CCMSLIB00005435628', 'CCMSLIB00000853697', 'CCMSLIB00000851691', 'CCMSLIB00000848429']\n",
    "path1='/mnt/scratch/ding013/MS2ChemClass/test_data_for_canopus/Organooxygen_compounds'\n",
    "Path(path1).mkdir(parents=True, exist_ok=True)\n",
    "\n",
    "for s in inchi_test_compound:\n",
    "    selected_spec=[spectrums_processed[i] for i,v in enumerate(spectrums_ids) if v==s]\n",
    "    save_as_mgf(selected_spec, f'{path1}/{s}test_inchikey.mgf')\n"
   ]
  },
  {
   "cell_type": "code",
   "execution_count": null,
   "id": "5abb1ea8",
   "metadata": {},
   "outputs": [],
   "source": []
  },
  {
   "cell_type": "code",
   "execution_count": null,
   "id": "420aac61",
   "metadata": {},
   "outputs": [],
   "source": []
  }
 ],
 "metadata": {
  "kernelspec": {
   "display_name": "Python 3",
   "language": "python",
   "name": "python3"
  },
  "language_info": {
   "codemirror_mode": {
    "name": "ipython",
    "version": 3
   },
   "file_extension": ".py",
   "mimetype": "text/x-python",
   "name": "python",
   "nbconvert_exporter": "python",
   "pygments_lexer": "ipython3",
   "version": "3.8.10"
  }
 },
 "nbformat": 4,
 "nbformat_minor": 5
}
