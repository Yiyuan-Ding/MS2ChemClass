{
 "cells": [
  {
   "cell_type": "markdown",
   "id": "431211e0",
   "metadata": {},
   "source": [
    "# Summary\n",
    "\n",
    "This script is to processing the mass spectral embeddings into arrays and connect them to the class labels.\n",
    "\n"
   ]
  },
  {
   "cell_type": "code",
   "execution_count": 1,
   "id": "9c88e328",
   "metadata": {},
   "outputs": [],
   "source": [
    "import os\n",
    "import gensim\n",
    "import pickle\n",
    "import time\n",
    "import sys\n",
    "import numpy as np\n",
    "import pandas as pd\n",
    "from matplotlib import pyplot as plt\n",
    "from spec2vec.vector_operations import calc_vector\n",
    "from collections import OrderedDict, Counter"
   ]
  },
  {
   "cell_type": "markdown",
   "id": "b2d4a086",
   "metadata": {},
   "source": [
    "## Import data from file"
   ]
  },
  {
   "cell_type": "code",
   "execution_count": 2,
   "id": "941dade7",
   "metadata": {},
   "outputs": [
    {
     "data": {
      "text/plain": [
       "False"
      ]
     },
     "execution_count": 2,
     "metadata": {},
     "output_type": "execute_result"
    }
   ],
   "source": [
    "data_path = \"/mnt/LTR_userdata/hooft001/mass_spectral_embeddings/datasets/ALL_GNPS_210409_positive/\"\n",
    "base = \"ALL_GNPS_210409_positive_cleaned\"\n",
    "spectra_data = \"_peaks_processed_s2v_only_annotated.pickle\"\n",
    "\n",
    "embedding_path = \"/mnt/LTR_userdata/hooft001/mass_spectral_embeddings/embeddings/ALL_GNPS_210409_positive/ALL_GNPS_210409_positive_cleaned_spec2vec_embedding_iter_15.model\"\n",
    "save_path = \"/mnt/scratch/ding013/MS2ChemClass/hooft_data/embedding_visualization_out/\"\n",
    "\n",
    "spectrum_file = os.path.join(data_path, base+\".pickle\")\n",
    "os.path.exists(spectrum_file)\n",
    "\n",
    "processed_spectrums_file = os.path.join(data_path, base+spectra_data)\n",
    "with open(processed_spectrums_file, 'rb') as inf:\n",
    "    spectrums_processed = pickle.load(inf)\n",
    "\n",
    "len(spectrums_processed)\n",
    "\n",
    "# TEST DATA\n",
    "# spectrums_processed = spectrums_processed[1:100]\n",
    "# len(spectrums_processed)\n",
    "\n",
    "\n",
    "# ### Keep annotated spectra\n",
    "# Annotated with inchikey\n",
    "\n",
    "annot_spectrums_processed = []\n",
    "for spec in spectrums_processed:\n",
    "    inchikey = spec.metadata.get(\"inchikey\")\n",
    "    if inchikey:\n",
    "        annot_spectrums_processed.append(spec)\n",
    "len(annot_spectrums_processed)\n",
    "\n",
    "spectrums_ids = [s.metadata.get(\"spectrum_id\") for s in annot_spectrums_processed]\n",
    "\n",
    "\n",
    "any([s==None for s in spectrums_ids])"
   ]
  },
  {
   "cell_type": "markdown",
   "id": "f0ae68ce",
   "metadata": {},
   "source": [
    "## Create mass spectral embedding vectors"
   ]
  },
  {
   "cell_type": "code",
   "execution_count": 3,
   "id": "7c1b7df5",
   "metadata": {},
   "outputs": [
    {
     "name": "stdout",
     "output_type": "stream",
     "text": [
      "187152\n"
     ]
    },
    {
     "data": {
      "text/plain": [
       "(16360, 300)"
      ]
     },
     "execution_count": 3,
     "metadata": {},
     "output_type": "execute_result"
    }
   ],
   "source": [
    "# ### Create spectral embedding vectors\n",
    "\n",
    "\n",
    "# import model\n",
    "model_file = os.path.join(embedding_path)\n",
    "model = gensim.models.Word2Vec.load(model_file)\n",
    "\n",
    "\n",
    "from spec2vec import SpectrumDocument\n",
    "\n",
    "documents_spectrums_processed = [SpectrumDocument(s, n_decimals=2) for s in annot_spectrums_processed]\n",
    "print(len(documents_spectrums_processed))\n",
    "\n",
    "\n",
    "spectrum_vectors= [calc_vector(model, s, intensity_weighting_power=0.5) for s in documents_spectrums_processed]\n",
    "\n",
    "spectrum_vectors = np.vstack(spectrum_vectors)\n",
    "spectrum_vectors.shape\n",
    "\n",
    "# and for UniqueInchikey\n",
    "sys.path.insert(0, os.path.join(os.path.split(os.getcwd()[:-1])[0], \"scripts\"))\n",
    "\n",
    "from mass_differences.processing import get_ids_for_unique_inchikeys ## This function is cited from Joris Louwen\n",
    "uniq_ids = get_ids_for_unique_inchikeys(annot_spectrums_processed)\n",
    "\n",
    "\n",
    "spectrum_vectors_unique = [spectrum_vectors[i] for i in uniq_ids]\n",
    "spectrum_vectors_unique = np.vstack(spectrum_vectors_unique)\n",
    "spectrum_vectors_unique.shape"
   ]
  },
  {
   "cell_type": "markdown",
   "id": "7eb84d4b",
   "metadata": {},
   "source": [
    "## Link classification labels to embeddings"
   ]
  },
  {
   "cell_type": "code",
   "execution_count": 4,
   "id": "1ac99252",
   "metadata": {},
   "outputs": [
    {
     "name": "stdout",
     "output_type": "stream",
     "text": [
      "read classes for 19824 inchikeys\n",
      "\n",
      "classes order:\n",
      "['inchi_key', 'smiles', 'cf_kingdom', 'cf_superclass', 'cf_class', 'cf_subclass', 'cf_direct_parent', 'npc_class_results', 'npc_superclass_results', 'npc_pathway_results', 'npc_isglycoside']\n",
      "187152\n",
      "[['CCMSLIB00000001547', 'Organic compounds', 'Organic acids and derivatives', 'Peptidomimetics', 'Hybrid peptides', 'Hybrid peptides', 'Cyclic peptides; Microcystins', 'Oligopeptides', 'Amino acids and Peptides', '0'], ['CCMSLIB00000001548', 'Organic compounds', 'Organic acids and derivatives', 'Peptidomimetics', 'Depsipeptides', 'Cyclic depsipeptides', 'Cyclic peptides', 'Oligopeptides', 'Amino acids and Peptides', '0']]\n",
      "['spectrum_id', 'cf_kingdom', 'cf_superclass', 'cf_class', 'cf_subclass', 'cf_direct_parent', 'npc_class_results', 'npc_superclass_results', 'npc_pathway_results', 'npc_isglycoside']\n"
     ]
    }
   ],
   "source": [
    "# ### Link classification labels to selected spectra\n",
    "\n",
    "classifications_path = \"/mnt/LTR_userdata/hooft001/mass_spectral_embeddings/classifications/ALL_GNPS_210409_positive/\"\n",
    "classes_file = os.path.join(classifications_path, \"ALL_GNPS_210409_positive_processed_annotated_CF_NPC_classes.txt\")\n",
    "classes = {}  # inchikey: [classes] in order of header\n",
    "with open(classes_file) as inf:\n",
    "    header = inf.readline().strip().split('\\t')\n",
    "    for line in inf:\n",
    "        line = line.strip().split('\\t')\n",
    "        classes[line[0]] = line[2:]\n",
    "print(f'read classes for {len(classes)} inchikeys')\n",
    "print(\"\\nclasses order:\")\n",
    "print(header)\n",
    "\n",
    "spectra_classes = []\n",
    "empty_class = [\"\" for _ in range(len(header)-2)]\n",
    "assert len(empty_class) == len(header)-2\n",
    "for s_id, spec in zip(spectrums_ids, annot_spectrums_processed):\n",
    "    inchikey = spec.metadata.get(\"inchikey\")\n",
    "    s_classes = classes.get(inchikey, empty_class)\n",
    "    assert len(s_classes) == len(header)-2\n",
    "    res = [s_id] + s_classes\n",
    "    spectra_classes.append(res)\n",
    "print(len(spectra_classes))\n",
    "print(spectra_classes[:2])\n",
    "\n",
    "new_header = ['spectrum_id'] + header[2:]\n",
    "assert len(new_header) == len(spectra_classes[0])\n",
    "print(new_header)"
   ]
  },
  {
   "cell_type": "code",
   "execution_count": 5,
   "id": "6b0ee26c",
   "metadata": {},
   "outputs": [
    {
     "data": {
      "text/plain": [
       "['CCMSLIB00000001547',\n",
       " 'Organic compounds',\n",
       " 'Organic acids and derivatives',\n",
       " 'Peptidomimetics',\n",
       " 'Hybrid peptides',\n",
       " 'Hybrid peptides',\n",
       " 'Cyclic peptides; Microcystins',\n",
       " 'Oligopeptides',\n",
       " 'Amino acids and Peptides',\n",
       " '0']"
      ]
     },
     "execution_count": 5,
     "metadata": {},
     "output_type": "execute_result"
    }
   ],
   "source": [
    "spectra_classes[0]"
   ]
  },
  {
   "cell_type": "markdown",
   "id": "be594924",
   "metadata": {},
   "source": [
    "### Get the ordered classification labels"
   ]
  },
  {
   "cell_type": "code",
   "execution_count": 6,
   "id": "d6c895a1",
   "metadata": {},
   "outputs": [
    {
     "name": "stdout",
     "output_type": "stream",
     "text": [
      "cf_kingdom\n",
      "cf_superclass\n",
      "cf_class\n",
      "cf_subclass\n",
      "cf_direct_parent\n",
      "npc_class_results\n",
      "npc_superclass_results\n",
      "npc_pathway_results\n",
      "npc_isglycoside\n"
     ]
    },
    {
     "data": {
      "text/plain": [
       "9"
      ]
     },
     "execution_count": 6,
     "metadata": {},
     "output_type": "execute_result"
    }
   ],
   "source": [
    "# i_chosen = -4  # npc_class # choose which class (npc/cf) to plot (in new_header)\n",
    "# i_chosen = 3 # cf_class\n",
    "\n",
    "## Collect the ordered labels in all classes\n",
    "all_classes_ori = []\n",
    "for lbs in range(1,len(new_header)):\n",
    "    print(new_header[lbs])\n",
    "    chosen_classes_ori = []\n",
    "    uncl = \"Unclassified\"\n",
    "    uncl_other = \"Other/Unclassified\"\n",
    "    add_uncl = False\n",
    "    for s_cl in spectra_classes:\n",
    "        chosen_class = s_cl[lbs]\n",
    "        if not chosen_class:\n",
    "            chosen_class = uncl\n",
    "        else:  # separate in single classes - there are compounds with 3 superclasses for example\n",
    "            chosen_class = chosen_class.split(\"; \")[0]\n",
    "        chosen_classes_ori.append(chosen_class)\n",
    "    len(chosen_classes_ori)\n",
    "    all_classes_ori.append(chosen_classes_ori)\n",
    "len(all_classes_ori)"
   ]
  },
  {
   "cell_type": "code",
   "execution_count": 7,
   "id": "eef40dbb",
   "metadata": {},
   "outputs": [
    {
     "data": {
      "text/plain": [
       "9"
      ]
     },
     "execution_count": 7,
     "metadata": {},
     "output_type": "execute_result"
    }
   ],
   "source": [
    "## Collect the orderen labels with unique inchikey in all classes\n",
    "all_classes_ori_ui = []\n",
    "for k in all_classes_ori:\n",
    "    chosen_classes_ori_ui = [k[i] for i in uniq_ids]\n",
    "    len(chosen_classes_ori_ui)\n",
    "    all_classes_ori_ui.append(chosen_classes_ori_ui)\n",
    "len(all_classes_ori_ui)"
   ]
  },
  {
   "cell_type": "markdown",
   "id": "aa4cd02e",
   "metadata": {},
   "source": [
    "## Save array as csv file"
   ]
  },
  {
   "cell_type": "code",
   "execution_count": 8,
   "id": "4843ea26",
   "metadata": {},
   "outputs": [],
   "source": [
    "## Save the spectral embeddings array with unique inchikey\n",
    "\n",
    "X_embedding = np.array(spectrum_vectors_unique)\n",
    "np.savetxt('/mnt/scratch/ding013/MS2ChemClass/embedding_arrays_for_classification/X_spectral_embeddings.csv', X_embedding, delimiter=',')"
   ]
  },
  {
   "cell_type": "code",
   "execution_count": 9,
   "id": "929513c0",
   "metadata": {},
   "outputs": [
    {
     "name": "stdout",
     "output_type": "stream",
     "text": [
      "cf_kingdom\n",
      "cf_superclass\n",
      "cf_class\n",
      "cf_subclass\n",
      "cf_direct_parent\n",
      "npc_class_results\n",
      "npc_superclass_results\n",
      "npc_pathway_results\n",
      "npc_isglycoside\n"
     ]
    }
   ],
   "source": [
    "## Save the ordered class labels array with unique inchikey\n",
    "for i in range(len(all_classes_ori_ui)):\n",
    "    y_label = np.array(all_classes_ori_ui[i])\n",
    "    print(new_header[i+1])\n",
    "    filepath_labels='/mnt/scratch/ding013/MS2ChemClass/embedding_arrays_for_classification/y_%s_labels.csv' % new_header[i+1]\n",
    "    np.savetxt(filepath_labels, y_label, delimiter=',',fmt='%s')"
   ]
  },
  {
   "cell_type": "code",
   "execution_count": null,
   "id": "74da0b21",
   "metadata": {},
   "outputs": [],
   "source": []
  }
 ],
 "metadata": {
  "kernelspec": {
   "display_name": "Python 3",
   "language": "python",
   "name": "python3"
  },
  "language_info": {
   "codemirror_mode": {
    "name": "ipython",
    "version": 3
   },
   "file_extension": ".py",
   "mimetype": "text/x-python",
   "name": "python",
   "nbconvert_exporter": "python",
   "pygments_lexer": "ipython3",
   "version": "3.8.8"
  }
 },
 "nbformat": 4,
 "nbformat_minor": 5
}
