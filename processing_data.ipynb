{
 "cells": [
  {
   "cell_type": "markdown",
   "id": "431211e0",
   "metadata": {},
   "source": [
    "# Summary\n",
    "\n",
    "This script is to processing the mass spectral embeddings into arrays and connect them to the class labels.\n",
    "\n"
   ]
  },
  {
   "cell_type": "code",
   "execution_count": 1,
   "id": "9c88e328",
   "metadata": {},
   "outputs": [],
   "source": [
    "import os\n",
    "import gensim\n",
    "import pickle\n",
    "import time\n",
    "import sys\n",
    "import numpy as np\n",
    "import pandas as pd\n",
    "from matplotlib import pyplot as plt\n",
    "from spec2vec.vector_operations import calc_vector\n",
    "from collections import OrderedDict, Counter"
   ]
  },
  {
   "cell_type": "markdown",
   "id": "b2d4a086",
   "metadata": {},
   "source": [
    "## Import data from file"
   ]
  },
  {
   "cell_type": "code",
   "execution_count": 2,
   "id": "941dade7",
   "metadata": {},
   "outputs": [
    {
     "data": {
      "text/plain": [
       "False"
      ]
     },
     "execution_count": 2,
     "metadata": {},
     "output_type": "execute_result"
    }
   ],
   "source": [
    "data_path = \"/mnt/LTR_userdata/hooft001/mass_spectral_embeddings/datasets/ALL_GNPS_210409_positive/\"\n",
    "base = \"ALL_GNPS_210409_positive_cleaned\"\n",
    "spectra_data = \"_peaks_processed_s2v_only_annotated.pickle\"\n",
    "\n",
    "embedding_path = \"/mnt/LTR_userdata/hooft001/mass_spectral_embeddings/embeddings/ALL_GNPS_210409_positive/ALL_GNPS_210409_positive_cleaned_spec2vec_embedding_iter_15.model\"\n",
    "save_path = \"/mnt/scratch/ding013/MS2ChemClass/hooft_data/embedding_visualization_out/\"\n",
    "\n",
    "spectrum_file = os.path.join(data_path, base+\".pickle\")\n",
    "os.path.exists(spectrum_file)\n",
    "\n",
    "processed_spectrums_file = os.path.join(data_path, base+spectra_data)\n",
    "with open(processed_spectrums_file, 'rb') as inf:\n",
    "    spectrums_processed = pickle.load(inf)\n",
    "\n",
    "len(spectrums_processed)\n",
    "\n",
    "# TEST DATA\n",
    "# spectrums_processed = spectrums_processed[1:100]\n",
    "# len(spectrums_processed)\n",
    "\n",
    "\n",
    "# ### Keep annotated spectra\n",
    "# Annotated with inchikey\n",
    "\n",
    "annot_spectrums_processed = []\n",
    "for spec in spectrums_processed:\n",
    "    inchikey = spec.metadata.get(\"inchikey\")\n",
    "    if inchikey:\n",
    "        annot_spectrums_processed.append(spec)\n",
    "len(annot_spectrums_processed)\n",
    "\n",
    "spectrums_ids = [s.metadata.get(\"spectrum_id\") for s in annot_spectrums_processed]\n",
    "\n",
    "\n",
    "any([s==None for s in spectrums_ids])"
   ]
  },
  {
   "cell_type": "markdown",
   "id": "f0ae68ce",
   "metadata": {},
   "source": [
    "## Create mass spectral embedding vectors"
   ]
  },
  {
   "cell_type": "code",
   "execution_count": 3,
   "id": "7c1b7df5",
   "metadata": {},
   "outputs": [
    {
     "name": "stdout",
     "output_type": "stream",
     "text": [
      "187152\n"
     ]
    },
    {
     "data": {
      "text/plain": [
       "(16360, 300)"
      ]
     },
     "execution_count": 3,
     "metadata": {},
     "output_type": "execute_result"
    }
   ],
   "source": [
    "# ### Create spectral embedding vectors\n",
    "\n",
    "\n",
    "# import model\n",
    "model_file = os.path.join(embedding_path)\n",
    "model = gensim.models.Word2Vec.load(model_file)\n",
    "\n",
    "\n",
    "from spec2vec import SpectrumDocument\n",
    "\n",
    "documents_spectrums_processed = [SpectrumDocument(s, n_decimals=2) for s in annot_spectrums_processed]\n",
    "print(len(documents_spectrums_processed))\n",
    "\n",
    "\n",
    "spectrum_vectors= [calc_vector(model, s, intensity_weighting_power=0.5) for s in documents_spectrums_processed]\n",
    "\n",
    "spectrum_vectors = np.vstack(spectrum_vectors)\n",
    "spectrum_vectors.shape\n",
    "\n",
    "# and for UniqueInchikey\n",
    "sys.path.insert(0, os.path.join(os.path.split(os.getcwd()[:-1])[0], \"scripts\"))\n",
    "\n",
    "from mass_differences.processing import get_ids_for_unique_inchikeys ## This function is cited from Joris Louwen\n",
    "uniq_ids = get_ids_for_unique_inchikeys(annot_spectrums_processed)\n",
    "\n",
    "\n",
    "spectrum_vectors_unique = [spectrum_vectors[i] for i in uniq_ids]\n",
    "spectrum_vectors_unique = np.vstack(spectrum_vectors_unique)\n",
    "spectrum_vectors_unique.shape"
   ]
  },
  {
   "cell_type": "markdown",
   "id": "7eb84d4b",
   "metadata": {},
   "source": [
    "## Link classification labels to embeddings"
   ]
  },
  {
   "cell_type": "code",
   "execution_count": 4,
   "id": "1ac99252",
   "metadata": {},
   "outputs": [
    {
     "name": "stdout",
     "output_type": "stream",
     "text": [
      "read classes for 19824 inchikeys\n",
      "\n",
      "classes order:\n",
      "['inchi_key', 'smiles', 'cf_kingdom', 'cf_superclass', 'cf_class', 'cf_subclass', 'cf_direct_parent', 'npc_class_results', 'npc_superclass_results', 'npc_pathway_results', 'npc_isglycoside']\n",
      "187152\n",
      "[['CCMSLIB00000001547', 'Organic compounds', 'Organic acids and derivatives', 'Peptidomimetics', 'Hybrid peptides', 'Hybrid peptides', 'Cyclic peptides; Microcystins', 'Oligopeptides', 'Amino acids and Peptides', '0'], ['CCMSLIB00000001548', 'Organic compounds', 'Organic acids and derivatives', 'Peptidomimetics', 'Depsipeptides', 'Cyclic depsipeptides', 'Cyclic peptides', 'Oligopeptides', 'Amino acids and Peptides', '0']]\n",
      "['spectrum_id', 'cf_kingdom', 'cf_superclass', 'cf_class', 'cf_subclass', 'cf_direct_parent', 'npc_class_results', 'npc_superclass_results', 'npc_pathway_results', 'npc_isglycoside']\n"
     ]
    }
   ],
   "source": [
    "# ### Link classification labels to selected spectra\n",
    "\n",
    "classifications_path = \"/mnt/LTR_userdata/hooft001/mass_spectral_embeddings/classifications/ALL_GNPS_210409_positive/\"\n",
    "classes_file = os.path.join(classifications_path, \"ALL_GNPS_210409_positive_processed_annotated_CF_NPC_classes.txt\")\n",
    "classes = {}  # inchikey: [classes] in order of header\n",
    "with open(classes_file) as inf:\n",
    "    header = inf.readline().strip().split('\\t')\n",
    "    for line in inf:\n",
    "        line = line.strip().split('\\t')\n",
    "        classes[line[0]] = line[2:]\n",
    "print(f'read classes for {len(classes)} inchikeys')\n",
    "print(\"\\nclasses order:\")\n",
    "print(header)\n",
    "\n",
    "spectra_classes = []\n",
    "empty_class = [\"\" for _ in range(len(header)-2)]\n",
    "assert len(empty_class) == len(header)-2\n",
    "for s_id, spec in zip(spectrums_ids, annot_spectrums_processed):\n",
    "    inchikey = spec.metadata.get(\"inchikey\")\n",
    "    s_classes = classes.get(inchikey, empty_class)\n",
    "    assert len(s_classes) == len(header)-2\n",
    "    res = [s_id] + s_classes\n",
    "    spectra_classes.append(res)\n",
    "print(len(spectra_classes))\n",
    "print(spectra_classes[:2])\n",
    "\n",
    "new_header = ['spectrum_id'] + header[2:]\n",
    "assert len(new_header) == len(spectra_classes[0])\n",
    "print(new_header)"
   ]
  },
  {
   "cell_type": "code",
   "execution_count": 5,
   "id": "6b0ee26c",
   "metadata": {},
   "outputs": [
    {
     "data": {
      "text/plain": [
       "['CCMSLIB00000001547',\n",
       " 'Organic compounds',\n",
       " 'Organic acids and derivatives',\n",
       " 'Peptidomimetics',\n",
       " 'Hybrid peptides',\n",
       " 'Hybrid peptides',\n",
       " 'Cyclic peptides; Microcystins',\n",
       " 'Oligopeptides',\n",
       " 'Amino acids and Peptides',\n",
       " '0']"
      ]
     },
     "execution_count": 5,
     "metadata": {},
     "output_type": "execute_result"
    }
   ],
   "source": [
    "spectra_classes[0]"
   ]
  },
  {
   "cell_type": "markdown",
   "id": "be594924",
   "metadata": {},
   "source": [
    "### Get the ordered classification labels"
   ]
  },
  {
   "cell_type": "code",
   "execution_count": 6,
   "id": "d6c895a1",
   "metadata": {},
   "outputs": [
    {
     "name": "stdout",
     "output_type": "stream",
     "text": [
      "cf_kingdom\n",
      "cf_superclass\n",
      "cf_class\n",
      "cf_subclass\n",
      "cf_direct_parent\n",
      "npc_class_results\n",
      "npc_superclass_results\n",
      "npc_pathway_results\n",
      "npc_isglycoside\n"
     ]
    },
    {
     "data": {
      "text/plain": [
       "9"
      ]
     },
     "execution_count": 6,
     "metadata": {},
     "output_type": "execute_result"
    }
   ],
   "source": [
    "# i_chosen = -4  # npc_class # choose which class (npc/cf) to plot (in new_header)\n",
    "# i_chosen = 3 # cf_class\n",
    "\n",
    "## Collect the ordered labels in all classes\n",
    "all_classes_ori = []\n",
    "for lbs in range(1,len(new_header)):\n",
    "    print(new_header[lbs])\n",
    "    chosen_classes_ori = []\n",
    "    uncl = \"Unclassified\"\n",
    "    uncl_other = \"Other/Unclassified\"\n",
    "    add_uncl = False\n",
    "    for s_cl in spectra_classes:\n",
    "        chosen_class = s_cl[lbs]\n",
    "        if not chosen_class:\n",
    "            chosen_class = uncl\n",
    "        else:  # separate in single classes - there are compounds with 3 superclasses for example\n",
    "            chosen_class = chosen_class.split(\"; \")[0]\n",
    "        chosen_classes_ori.append(chosen_class)\n",
    "    len(chosen_classes_ori)\n",
    "    all_classes_ori.append(chosen_classes_ori)\n",
    "len(all_classes_ori)"
   ]
  },
  {
   "cell_type": "code",
   "execution_count": 7,
   "id": "eef40dbb",
   "metadata": {},
   "outputs": [
    {
     "data": {
      "text/plain": [
       "9"
      ]
     },
     "execution_count": 7,
     "metadata": {},
     "output_type": "execute_result"
    }
   ],
   "source": [
    "## Collect the orderen labels with unique inchikey in all classes\n",
    "all_classes_ori_ui = []\n",
    "for k in all_classes_ori:\n",
    "    chosen_classes_ori_ui = [k[i] for i in uniq_ids]\n",
    "    len(chosen_classes_ori_ui)\n",
    "    all_classes_ori_ui.append(chosen_classes_ori_ui)\n",
    "len(all_classes_ori_ui)"
   ]
  },
  {
   "cell_type": "markdown",
   "id": "aa4cd02e",
   "metadata": {},
   "source": [
    "## Save array as csv file"
   ]
  },
  {
   "cell_type": "code",
   "execution_count": 8,
   "id": "4843ea26",
   "metadata": {},
   "outputs": [],
   "source": [
    "## Save the spectral embeddings array with unique inchikey\n",
    "\n",
    "X_embedding = np.array(spectrum_vectors_unique)\n",
    "np.savetxt('/mnt/scratch/ding013/MS2ChemClass/embedding_arrays_for_classification/X_spectral_embeddings.csv', X_embedding, delimiter=',')"
   ]
  },
  {
   "cell_type": "code",
   "execution_count": 9,
   "id": "929513c0",
   "metadata": {},
   "outputs": [
    {
     "name": "stdout",
     "output_type": "stream",
     "text": [
      "cf_kingdom\n",
      "cf_superclass\n",
      "cf_class\n",
      "cf_subclass\n",
      "cf_direct_parent\n",
      "npc_class_results\n",
      "npc_superclass_results\n",
      "npc_pathway_results\n",
      "npc_isglycoside\n"
     ]
    }
   ],
   "source": [
    "## Save the ordered class labels array with unique inchikey\n",
    "for i in range(len(all_classes_ori_ui)):\n",
    "    y_label = np.array(all_classes_ori_ui[i])\n",
    "    print(new_header[i+1])\n",
    "    filepath_labels='/mnt/scratch/ding013/MS2ChemClass/embedding_arrays_for_classification/y_%s_labels.csv' % new_header[i+1]\n",
    "    np.savetxt(filepath_labels, y_label, delimiter=',',fmt='%s')"
   ]
  },
  {
   "cell_type": "markdown",
   "id": "8304154a",
   "metadata": {},
   "source": [
    "## Inspect the distribution of classification labels"
   ]
  },
  {
   "cell_type": "code",
   "execution_count": 15,
   "id": "5df4f6bd",
   "metadata": {},
   "outputs": [
    {
     "data": {
      "text/plain": [
       "16360"
      ]
     },
     "execution_count": 15,
     "metadata": {},
     "output_type": "execute_result"
    }
   ],
   "source": [
    "npc_class_ui = all_classes_ori_ui[5] # Choose the labels in Class level\n",
    "len(npc_class_ui)"
   ]
  },
  {
   "cell_type": "code",
   "execution_count": 16,
   "id": "aaeab155",
   "metadata": {},
   "outputs": [],
   "source": [
    "label_distri = {i: npc_class_ui.count(i) for i in npc_class_ui}"
   ]
  },
  {
   "cell_type": "code",
   "execution_count": 18,
   "id": "cc70a243",
   "metadata": {},
   "outputs": [
    {
     "data": {
      "text/plain": [
       "{'Cyclic peptides': 557,\n",
       " 'Unclassified': 3309,\n",
       " 'Lipopeptides': 11,\n",
       " 'Linear peptides': 169,\n",
       " 'Tripeptides': 109,\n",
       " 'Open-chain polyketides': 74,\n",
       " 'Ansa macrolides': 61,\n",
       " 'Angucyclines': 32,\n",
       " 'Polyene macrolides': 23,\n",
       " 'Aminoacids': 221,\n",
       " 'Scalarane sesterterpenoids': 4,\n",
       " 'Cholestane steroids': 77,\n",
       " 'Chromones': 88,\n",
       " 'N-acyl amines': 108,\n",
       " 'Lactones': 20,\n",
       " 'Naphthoquinones': 51,\n",
       " 'Depsipeptides': 17,\n",
       " 'Spirotetronate macrolides': 10,\n",
       " 'Actinomycins': 7,\n",
       " 'Macrolide lactones': 16,\n",
       " 'Dipeptides': 299,\n",
       " 'Fatty aldehydes': 6,\n",
       " 'Chamigrane sesquiterpenoids': 2,\n",
       " 'Simple amide alkaloids': 3,\n",
       " 'Farnesane sesquiterpenoids': 9,\n",
       " 'Wax monoesters': 60,\n",
       " 'Glycerophosphoethanolamines': 91,\n",
       " 'Cyclamides': 4,\n",
       " 'Cyanopeptolins': 12,\n",
       " 'RiPPs': 19,\n",
       " 'Anabaenopeptins': 12,\n",
       " 'Bisnaphthalenes': 12,\n",
       " 'Monosaccharides': 34,\n",
       " 'Quinoline alkaloids': 88,\n",
       " 'RiPPs-Thiopeptides': 4,\n",
       " '2-pyrone derivatives': 45,\n",
       " 'Phenazine alkaloids': 44,\n",
       " 'Unsaturated fatty acids': 46,\n",
       " 'Carbocyclic fatty acids': 8,\n",
       " 'Sphingoid bases': 15,\n",
       " 'Phosphosphingolipids': 48,\n",
       " 'Menthane monoterpenoids': 36,\n",
       " 'Macrocyclic tetramic acids': 4,\n",
       " 'Polyamines': 58,\n",
       " 'Glycerophosphocholines': 221,\n",
       " 'Glycerophosphates': 6,\n",
       " 'Glycerophosphoglycerols': 7,\n",
       " 'Flavonols': 271,\n",
       " 'Caryophyllane sesquiterpenoids': 15,\n",
       " 'Germacrane sesquiterpenoids': 81,\n",
       " 'Flavones': 279,\n",
       " 'Antimycins': 8,\n",
       " 'Simple indole alkaloids': 128,\n",
       " 'Triketide meroterpenoids': 8,\n",
       " 'Indolizidine alkaloids': 13,\n",
       " 'Isocoumarins': 81,\n",
       " 'Polyether ionophores': 10,\n",
       " 'Furanoid lignans': 18,\n",
       " 'Dihydroflavonols': 35,\n",
       " 'Guaiane sesquiterpenoids': 54,\n",
       " 'Estrane steroids': 36,\n",
       " 'Spirostane steroids': 54,\n",
       " 'Aporphine alkaloids': 86,\n",
       " 'Pyridine alkaloids': 394,\n",
       " 'Cinnamic acids and derivatives': 182,\n",
       " 'Isoquinoline alkaloids': 206,\n",
       " 'Chalcones': 150,\n",
       " 'Flavanones': 129,\n",
       " 'Macrotetrolides': 8,\n",
       " 'Carbazole alkaloids': 23,\n",
       " 'Tylosins': 7,\n",
       " 'Pyrrolizidine alkaloids': 37,\n",
       " 'Pimprinine alkaloids': 3,\n",
       " 'Jatrophane diterpenoids': 46,\n",
       " 'Simple phenolic acids': 120,\n",
       " 'Erythromycins': 20,\n",
       " 'Penicillins': 18,\n",
       " 'Purine nucleosides': 60,\n",
       " 'Purine alkaloids': 83,\n",
       " 'Carboline alkaloids': 252,\n",
       " 'Bafilomycins': 12,\n",
       " 'Imidazole alkaloids': 90,\n",
       " 'Monocarbocyclic sesterterpenoids': 2,\n",
       " 'Indole-Diterpenoid alkaloids (Penitrems)': 16,\n",
       " 'Pyrrole alkaloids': 6,\n",
       " 'Hapalindole alkaloids': 11,\n",
       " 'Drimane sesquiterpenoids': 65,\n",
       " 'Pregnane steroids': 127,\n",
       " 'Thiazole alkaloids': 1,\n",
       " 'Pyrroloindole alkaloids': 10,\n",
       " 'Prenyl quinone meroterpenoids': 24,\n",
       " 'Trichothecane sesquiterpenoids': 30,\n",
       " 'Indole diketopiperazine alkaloids (L-Trp, L-Trp)': 9,\n",
       " 'Ergostane steroids': 22,\n",
       " 'Other indole diketopiperazine alkaloids': 12,\n",
       " 'Pulvinones': 13,\n",
       " 'Simple diketopiperazine alkaloids': 4,\n",
       " 'Monacolins and Monacolin derivatives': 14,\n",
       " 'Anthraquinones and anthrones': 103,\n",
       " 'Azaphilones': 40,\n",
       " 'Benzodiazepine alkaloids': 28,\n",
       " 'Tetracyclic diterpenoids': 28,\n",
       " 'Aspidosperma type': 68,\n",
       " 'Fungal DPEs': 16,\n",
       " 'Acyl phloroglucinols': 45,\n",
       " 'Quinazoline alkaloids': 76,\n",
       " 'Indole diketopiperazine alkaloids (L-Trp, L-Ala)': 11,\n",
       " 'Indole diketopiperazine alkaloids (L-Trp, L-Pro)': 29,\n",
       " 'Linear polyenes': 6,\n",
       " '3-acyl tetramic acids': 7,\n",
       " '2-arylbenzofurans': 5,\n",
       " 'Phthalide derivatives': 21,\n",
       " 'Cadinane sesquiterpenoids': 23,\n",
       " 'Cembrane diterpenoids': 19,\n",
       " '3-Decalinoyltetramic acids': 4,\n",
       " 'Cinnamic acid amides': 22,\n",
       " 'Linear diarylheptanoids': 52,\n",
       " 'Epothilones': 2,\n",
       " 'Lactam bearing macrolide lactones': 2,\n",
       " 'Fatty acyl CoAs': 17,\n",
       " 'Neutral glycosphingolipids': 14,\n",
       " 'Tigliane diterpenoids': 8,\n",
       " 'Amarylidaceae alkaloids': 37,\n",
       " 'Monomeric stilbenes': 55,\n",
       " 'Piperidine alkaloids': 113,\n",
       " 'Anthocyanidins': 39,\n",
       " 'Anthracyclines': 13,\n",
       " 'Pyrazine and Piperazine alkaloids': 5,\n",
       " 'Flavan-3-ols': 28,\n",
       " 'Fatty acyl glycosides of mono- and disaccharides': 31,\n",
       " 'Neolignans': 62,\n",
       " 'Iridoids monoterpenoids': 145,\n",
       " 'Oleanane triterpenoids': 259,\n",
       " 'Aplysiatoxins': 2,\n",
       " 'Premyrsinane diterpenoids': 6,\n",
       " 'Myrsinane diterpenoids': 14,\n",
       " 'Lathyrane diterpenoids': 21,\n",
       " 'Abietane diterpenoids': 31,\n",
       " 'Cycloartane triterpenoids': 27,\n",
       " 'Mycosporine and Mycosporine-like amino acids': 7,\n",
       " 'Corynanthe type': 137,\n",
       " 'Bourbonane sesquiterpenoids': 1,\n",
       " 'Laurane sesquiterpenoids': 1,\n",
       " 'Androstane steroids': 76,\n",
       " 'Aminosugars': 39,\n",
       " 'Amino cyclitols': 30,\n",
       " 'Apocarotenoids (β-)': 14,\n",
       " 'Norkaurane diterpenoids': 7,\n",
       " 'Tetracyclines': 31,\n",
       " 'Pyrimidine nucleosides': 35,\n",
       " 'Secoiridoid monoterpenoids': 61,\n",
       " 'Tetrodotoxins': 1,\n",
       " 'Ingenane diterpenoids': 12,\n",
       " 'Podocarpane diterpenoids': 15,\n",
       " 'Pyrroloquinoline alkaloids': 44,\n",
       " 'Catechols with side chains': 24,\n",
       " 'Phenylalanine-derived alkaloids': 109,\n",
       " 'Phenylethylamines': 67,\n",
       " 'Tropane alkaloids': 57,\n",
       " 'Cannabinoids': 8,\n",
       " 'Tetraketide meroterpenoids': 56,\n",
       " 'Daphnane diterpenoids': 5,\n",
       " 'Pimarane and Isopimarane diterpenoids': 19,\n",
       " 'Naphthalenes and derivatives': 13,\n",
       " 'N-acyl ethanolamines (endocannabinoids)': 19,\n",
       " 'Fatty acyl carnitines': 20,\n",
       " 'Iboga type': 19,\n",
       " 'Aminoglycosides': 8,\n",
       " 'Fatty alcohols': 32,\n",
       " 'Cholane steroids': 167,\n",
       " '4-pyrone derivatives': 8,\n",
       " 'Cycloabietane diterpenoids': 1,\n",
       " 'Aristolane sesquiterpenoids': 2,\n",
       " 'Jatropholane diterpenoids': 1,\n",
       " 'Carotenoids (C40, β-β)': 80,\n",
       " 'Carotenoids (C40, β-Ψ)': 18,\n",
       " 'Phytane diterpenoids': 8,\n",
       " 'Glycosyldiacylglycerols': 20,\n",
       " 'Cephalosporins': 21,\n",
       " 'Tetrahydroisoquinoline alkaloids': 14,\n",
       " 'Depsides and depsidones': 76,\n",
       " 'Lanostane, Tirucallane and Euphane triterpenoids': 48,\n",
       " 'Aeruginosins': 2,\n",
       " 'Triacylglycerols': 247,\n",
       " 'Ceramides': 36,\n",
       " 'Monoacylglycerols': 26,\n",
       " 'Cucurbitane triterpenoids': 58,\n",
       " 'Fatty acyl homoserine lactones': 27,\n",
       " 'Colensane and Clerodane diterpenoids': 56,\n",
       " 'Halimane diterpenoids': 5,\n",
       " 'Merosesquiterpenoids': 2,\n",
       " 'Simple coumarins': 531,\n",
       " 'm-Terphenyls': 2,\n",
       " 'Furofuranoid lignans': 31,\n",
       " 'Shikimic acids and derivatives': 10,\n",
       " 'Cyanogenic glycosides': 11,\n",
       " 'Longifolane sesquiterpenoids': 2,\n",
       " 'Purine nucleos(t)ides': 11,\n",
       " 'Ascomycins and Rapamycins': 6,\n",
       " 'Dicarboxylic acids': 56,\n",
       " 'Bufadienolides': 15,\n",
       " 'Furostane steroids': 32,\n",
       " 'Cyclophytane diterpenoids': 3,\n",
       " 'Oxa-Bridged Macrolides': 1,\n",
       " 'RiPPs-Lasso peptides': 1,\n",
       " 'Stigmastane steroids': 7,\n",
       " 'Oligomeric stibenes': 4,\n",
       " 'Salinosporamides': 2,\n",
       " 'Bisabolane sesquiterpenoids': 18,\n",
       " 'Aflatoxins': 7,\n",
       " 'Decalins with side chains': 3,\n",
       " 'Picrotoxane sesquiterpenoids': 14,\n",
       " 'Ladder polyethers': 1,\n",
       " 'Acorane sesquiterpenoids': 3,\n",
       " 'Isodaucane sesquiterpenoids': 1,\n",
       " 'Eudesmane sesquiterpenoids': 59,\n",
       " 'Gorgonane sesquiterpenoids': 1,\n",
       " 'Polysaccharides': 87,\n",
       " 'Cubebane sesquiterpenoids': 1,\n",
       " 'Secokaurane diterpenoids': 2,\n",
       " 'Norpimarane and Norisopimarane diterpenoids': 1,\n",
       " 'Zearalenones': 16,\n",
       " 'Hopane and Moretane triterpenoids': 12,\n",
       " 'Steroidal alkaloids': 48,\n",
       " 'Terpenoid alkaloids': 55,\n",
       " 'Acyclic triterpenoids': 3,\n",
       " 'Kaurane and Phyllocladane diterpenoids': 37,\n",
       " 'Dibenzylbutane lignans': 13,\n",
       " 'Polyprenylated cyclic polyketides (Hop meroterpenoids)': 12,\n",
       " 'Prenylated,geranylated phloroglucinols': 2,\n",
       " 'Labdane diterpenoids': 85,\n",
       " 'Cardenolides': 72,\n",
       " 'Acetogenins': 8,\n",
       " 'Taraxerane triterpenoids': 3,\n",
       " 'Fukinane sesquiterpenoids': 3,\n",
       " 'Other Octadecanoids': 20,\n",
       " 'Lupane triterpenoids': 20,\n",
       " 'Plant xanthones': 40,\n",
       " 'Clavulones': 1,\n",
       " 'Friedelane triterpenoids': 7,\n",
       " 'Quinolizidine alkaloids': 36,\n",
       " 'Eremophilane sesquiterpenoids': 19,\n",
       " 'p-Terphenyls': 9,\n",
       " 'Dammarane and Protostane triterpenoids': 61,\n",
       " 'Daucane sesquiterpenoids': 13,\n",
       " 'Limonoids': 67,\n",
       " 'Stemona alkaloids': 7,\n",
       " 'Cycloapotirucallane triterpenoids': 1,\n",
       " 'Viscidane diterpenoids': 2,\n",
       " 'Serrulatane and Biflorane diterpenoids': 8,\n",
       " 'Pinane monoterpenoids': 12,\n",
       " 'Camphane monoterpenoids': 10,\n",
       " 'Acyclic monoterpenoids': 24,\n",
       " 'Elemane sesquiterpenoids': 14,\n",
       " 'Isoflavanones': 29,\n",
       " 'Serratane triterpenoids': 5,\n",
       " 'Pyrimidine nucleos(t)ides': 6,\n",
       " 'Diarylether type diarylheptanoids': 7,\n",
       " 'Simple aromatic polyketides': 3,\n",
       " 'Agarofuran sesquiterpenoids': 16,\n",
       " 'Hydroxy fatty acids': 43,\n",
       " 'Purine nucleotides': 33,\n",
       " 'Pyrimidine nucleotides': 15,\n",
       " 'Acetate-derived alkaloids': 3,\n",
       " 'Oxo fatty acids': 6,\n",
       " 'pteridine alkaloids': 1,\n",
       " 'Taxane diterpenoids': 32,\n",
       " 'Pyrrolidine alkaloids': 13,\n",
       " 'Arteminisin': 6,\n",
       " 'Gallotannins': 26,\n",
       " 'Carbapenems': 1,\n",
       " 'Prostaglandins': 22,\n",
       " 'Ergot alkaloids': 29,\n",
       " 'Acridone alkaloids': 29,\n",
       " 'Arylnaphthalene and aryltetralin lignans': 35,\n",
       " 'Protoberberine alkaloids': 7,\n",
       " 'Pterocarpan': 25,\n",
       " 'Open-chained neoflavonoids': 3,\n",
       " 'Isoflavones': 157,\n",
       " 'Neoflavonoids': 24,\n",
       " 'Rotenoids': 24,\n",
       " 'Phenethylisoquinoline alkaloids': 64,\n",
       " 'Pyranocoumarins': 44,\n",
       " 'Protopine alkaloids': 3,\n",
       " 'Furocoumarins': 103,\n",
       " 'Oxazole alkaloids': 1,\n",
       " 'Clovane sesquiterpenoids': 3,\n",
       " 'Abeoabietane diterpenoids': 6,\n",
       " 'Yohimbine-like alkaloids': 14,\n",
       " 'Kavalactones and derivatives': 14,\n",
       " 'Aurones': 28,\n",
       " 'Phenoxazine alkaloids': 1,\n",
       " 'Atisane diterpenoids': 5,\n",
       " 'Strychnos type': 15,\n",
       " 'Simple oxindole alkaloids': 5,\n",
       " 'Griseofulvins': 5,\n",
       " 'Cytochalasan alkaloids': 23,\n",
       " 'Sorbicilinoids': 8,\n",
       " 'Isoindole alkaloids': 13,\n",
       " 'Meromonoterpenoids': 1,\n",
       " 'Dimeric phloroglucinols': 8,\n",
       " 'Anthranillic acid derivatives': 15,\n",
       " 'Illudalane sesquiterpenoids': 3,\n",
       " 'Pseudoguaiane sesquiterpenoids': 11,\n",
       " 'Dibenzylbutyrolactone lignans': 11,\n",
       " 'Methyl xanthones': 45,\n",
       " 'Ecdysteroids': 14,\n",
       " 'Proanthocyanins': 8,\n",
       " 'Polyesters': 9,\n",
       " 'Aromatic polyketides with side chains': 2,\n",
       " 'Maleidrides': 1,\n",
       " 'Miscellaneous meroterpenoids': 6,\n",
       " 'Other polyketide meroterpenoids': 4,\n",
       " 'Morphinan alkaloids': 3,\n",
       " 'Minor lignans': 4,\n",
       " 'Phenylethanoids': 23,\n",
       " 'Fatty acid estolides': 3,\n",
       " 'Spirodioxynaphthalenes': 2,\n",
       " 'Dibenzocyclooctadienes lignans': 18,\n",
       " 'Branched fatty acids': 19,\n",
       " 'Megastigmanes': 22,\n",
       " 'Polyprenol derivatives': 6,\n",
       " 'Coumaronochromones': 1,\n",
       " 'Ursane and Taraxastane triterpenoids': 37,\n",
       " 'Tropolones and derivatives (PKS)': 1,\n",
       " 'Sophorolipids': 2,\n",
       " 'Gibberellins': 9,\n",
       " 'Aromadendrane sesquiterpenoids': 3,\n",
       " 'Capsaicins and Capsaicinoids': 4,\n",
       " 'Biaryl type diarylheptanoids': 2,\n",
       " 'Apocarotenoids(ε-)': 11,\n",
       " 'Abeolupane triterpenoids': 2,\n",
       " 'Ophiobolane sesterterpenoids': 1,\n",
       " 'Quassinoids': 14,\n",
       " 'Isolactarane sesquiterpenoids': 1,\n",
       " 'Apotirucallane triterpenoids': 2,\n",
       " 'Valerenane sesquiterpenoids': 3,\n",
       " 'Quadrane sesquiterpenoids': 3,\n",
       " '3-Spirotetramic acids': 3,\n",
       " 'Santalane sesquiterpenoids': 2,\n",
       " 'Beyerane diterpenoids': 3,\n",
       " 'Segetane diterpenoids': 2,\n",
       " 'Totarane diterpenoids': 2,\n",
       " 'Secogermacrane sesquiterpenoids': 1,\n",
       " 'Cassane diterpenoids': 5,\n",
       " 'Carabrane sesquiterpenoids': 2,\n",
       " 'Copacamphane sesquiterpenoids': 1,\n",
       " 'Lactarane sesquiterpenoids': 4,\n",
       " 'Platensimycin and Platencins': 2,\n",
       " 'Miscellaneous apocarotenoids': 4,\n",
       " 'Fusidane triterpenoids': 4,\n",
       " 'Bergamotane sesquiterpenoids': 1,\n",
       " 'Pentalenane sesquiterpenoids': 6,\n",
       " 'Grayanotoxane diterpenoids': 3,\n",
       " 'Longipinane sesquiterpenoids': 2,\n",
       " 'Humulane sesquiterpenoids': 3,\n",
       " 'Noreudesmane sesquiterpenoids': 1,\n",
       " 'Jasmonic acids': 7,\n",
       " 'Thiodiketopiperazine alkaloids': 1,\n",
       " 'Norlabdane diterpenoids': 3,\n",
       " 'Monocyclic monoterpenoids': 6,\n",
       " 'Paraliane diterpenoids': 1,\n",
       " 'Elfamycins': 2,\n",
       " 'Marasmane sesquiterpenoids': 2,\n",
       " 'Aspidosperma-Iboga hybrid type (Vinca alkaloids)': 7,\n",
       " 'Iphionane sesquiterpenoids': 1,\n",
       " 'Botryane sesquiterpenoids': 2,\n",
       " 'Zizaane sesquiterpenoids': 1,\n",
       " 'Campherenane sesquiterpenoids': 1,\n",
       " 'Guanacastane diterpenoids': 1,\n",
       " 'Icetexane diterpenoids': 1,\n",
       " '12-oxophytodienoic acid metabolites': 1,\n",
       " 'Trachylobane diterpenoids': 1,\n",
       " 'Terpenoid tetrahydroisoquinoline alkaloids': 1,\n",
       " 'Oligomycins': 1,\n",
       " 'Flavonolignans': 5,\n",
       " 'Cephamycins': 1,\n",
       " 'Acyclic guanidine alkaloids': 1,\n",
       " 'Cheilanthane sesterterpenoids': 1,\n",
       " 'Diacylglycerols': 36,\n",
       " 'Avermectins': 9,\n",
       " 'Gammacerane triterpenoids': 1,\n",
       " 'Paraconic acids and derivatives': 10,\n",
       " 'Stictane triterpenoids': 2,\n",
       " 'Hydroxy-hydroperoxyeicosatrienoic acids': 4,\n",
       " 'Other Docosanoids': 7,\n",
       " 'Epoxyeicosatrienoic acids': 5,\n",
       " 'Hydroxy-hydroperoxyeicosapentaenoic acids': 6,\n",
       " 'Other Eicosanoids': 4,\n",
       " 'Primary amides': 6,\n",
       " 'Disaccharides': 22,\n",
       " 'Cyclitols': 5,\n",
       " 'Hydroxy-hydroperoxyeicosatetraenoic acids': 9,\n",
       " 'Straight chain fatty acids': 8,\n",
       " 'Isoprostanes': 5,\n",
       " 'Hepoxilins': 1,\n",
       " 'Hydrocarbons': 15,\n",
       " 'Oxidized glycerophospholipids': 6,\n",
       " 'Heterocyclic fatty acids': 2,\n",
       " 'Glycerophosphoinositols': 1,\n",
       " 'Wax diesters': 2,\n",
       " 'Lipoxins': 1,\n",
       " 'Amino fatty acids': 13,\n",
       " 'Peptaibols': 2,\n",
       " 'Glycerophosphoserines': 22,\n",
       " 'Carotenoids (C40, β-κ)': 12,\n",
       " 'Carotenoids (C40, κ-κ)': 1,\n",
       " 'Carotenoids (C40, β-ε)': 18,\n",
       " 'Carotenoids (C50, Ψ-Ψ)': 1,\n",
       " 'Carotenoids (C40, π-π)': 1,\n",
       " 'Carotenoids (C40, β-γ)': 2,\n",
       " 'Carotenoids (C40, Ψ-Ψ)': 18,\n",
       " 'Carotenoids (C40, ε-ε)': 2,\n",
       " 'Apocarotenoids (C30, Ψ-Ψ)': 3,\n",
       " 'Carotenoids (C50, γ-γ)': 2,\n",
       " 'Glucosinolates': 14,\n",
       " 'Cyclopiazonic acid-tpye tetramate alkaloids': 1,\n",
       " 'Longibornane sesquiterpenoids': 2,\n",
       " 'Azo and Azoxy alkaloids': 2,\n",
       " 'Marine-bacterial DPEs': 1,\n",
       " 'Irregular monoterpenoids': 4,\n",
       " 'Ascarosides': 6,\n",
       " 'Coumestan': 8,\n",
       " 'Himachalane sesquiterpenoids': 1,\n",
       " 'Oxygenated hydrocarbons': 6,\n",
       " 'Carotenoids (C40, γ-Ψ)': 1,\n",
       " 'Hirsutane sesquiterpenoids': 1,\n",
       " 'Oplopane sesquiterpenoids': 2,\n",
       " 'Caryolane sesquiterpenoids': 3,\n",
       " 'Aphidicolane diterpenoids': 1,\n",
       " 'Thapsane sesquiterpenoids': 1,\n",
       " 'Simple cyclic polyketides': 1,\n",
       " 'Oligomeric phloroglucinols (phlorotannins)': 1,\n",
       " 'Halogenated fatty acids': 1,\n",
       " 'Prezizaane sesquiterpenoids': 2,\n",
       " 'Vancomycins and Teicoplanins': 3,\n",
       " 'Vitamin D3 and derivatives': 1,\n",
       " 'Hasubanan alkaloids': 1,\n",
       " 'Thia fatty acids': 1,\n",
       " 'Apocarotenoids (Ψ-)': 1,\n",
       " 'Coumarinolignans': 1,\n",
       " 'Shionane triterpenoids': 1,\n",
       " 'Multiflorane triterpenoids': 1,\n",
       " 'Carane monoterpenoids': 1,\n",
       " 'Benzoquinones': 1,\n",
       " 'Usnic acid and derivatives': 5,\n",
       " 'Patchoulane sesquiterpenoids': 1,\n",
       " 'Cephalotaxus alkaloids': 2,\n",
       " 'Cycloeudesmane sesquiterpenoids': 1,\n",
       " 'Secoabietane diterpenoids': 1}"
      ]
     },
     "execution_count": 18,
     "metadata": {},
     "output_type": "execute_result"
    }
   ],
   "source": [
    "len(label_distri)\n",
    "label_distri"
   ]
  },
  {
   "cell_type": "code",
   "execution_count": null,
   "id": "254bb171",
   "metadata": {},
   "outputs": [],
   "source": [
    "label_distri.items"
   ]
  },
  {
   "cell_type": "code",
   "execution_count": 22,
   "id": "315dfb4f",
   "metadata": {},
   "outputs": [
    {
     "name": "stdout",
     "output_type": "stream",
     "text": [
      "72\n",
      "41\n",
      "27\n",
      "16\n"
     ]
    }
   ],
   "source": [
    "uniq_label = [i for i, j in label_distri.items() if j==1]\n",
    "print(len(uniq_label))\n",
    "uniq_label = [i for i, j in label_distri.items() if j==2]\n",
    "print(len(uniq_label))\n",
    "uniq_label = [i for i, j in label_distri.items() if j==3]\n",
    "print(len(uniq_label))\n",
    "uniq_label = [i for i, j in label_distri.items() if j==4]\n",
    "print(len(uniq_label))"
   ]
  },
  {
   "cell_type": "code",
   "execution_count": 26,
   "id": "54ceef7b",
   "metadata": {},
   "outputs": [],
   "source": [
    "#sorted_label_distri = sorted(label_distri, key=label_distri.get, reverse=True)\n",
    "#print(len(sorted_label_distri))\n",
    "\n",
    "sorted_label_distri = dict(sorted(label_distri.items(), key=lambda item: item[1], reverse=True))"
   ]
  },
  {
   "cell_type": "code",
   "execution_count": 32,
   "id": "fddcc337",
   "metadata": {},
   "outputs": [
    {
     "data": {
      "text/plain": [
       "[('Unclassified', 3309),\n",
       " ('Cyclic peptides', 557),\n",
       " ('Simple coumarins', 531),\n",
       " ('Pyridine alkaloids', 394),\n",
       " ('Dipeptides', 299),\n",
       " ('Flavones', 279),\n",
       " ('Flavonols', 271),\n",
       " ('Oleanane triterpenoids', 259),\n",
       " ('Carboline alkaloids', 252),\n",
       " ('Triacylglycerols', 247)]"
      ]
     },
     "execution_count": 32,
     "metadata": {},
     "output_type": "execute_result"
    }
   ],
   "source": [
    "list(sorted_label_distri.items())[:10]"
   ]
  },
  {
   "cell_type": "code",
   "execution_count": 33,
   "id": "75afff68",
   "metadata": {},
   "outputs": [
    {
     "data": {
      "image/png": "[encoded data removed]",
      "text/plain": [
       "<Figure size 432x288 with 1 Axes>"
      ]
     },
     "metadata": {
      "needs_background": "light"
     },
     "output_type": "display_data"
    }
   ],
   "source": [
    "plt.hist(sorted_label_distri)\n",
    "plt.show()"
   ]
  },
  {
   "cell_type": "code",
   "execution_count": null,
   "id": "74da0b21",
   "metadata": {},
   "outputs": [],
   "source": []
  }
 ],
 "metadata": {
  "kernelspec": {
   "display_name": "Python 3",
   "language": "python",
   "name": "python3"
  },
  "language_info": {
   "codemirror_mode": {
    "name": "ipython",
    "version": 3
   },
   "file_extension": ".py",
   "mimetype": "text/x-python",
   "name": "python",
   "nbconvert_exporter": "python",
   "pygments_lexer": "ipython3",
   "version": "3.8.8"
  }
 },
 "nbformat": 4,
 "nbformat_minor": 5
}
